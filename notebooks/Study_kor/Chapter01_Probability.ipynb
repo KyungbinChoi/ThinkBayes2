{
 "cells": [
  {
   "cell_type": "markdown",
   "id": "b8ded54d-8d58-41a8-b742-115f499e6380",
   "metadata": {
    "tags": []
   },
   "source": [
    "# Probability"
   ]
  },
  {
   "cell_type": "markdown",
   "id": "0d5031fc-4026-4a8c-aa58-52b50686bd43",
   "metadata": {},
   "source": [
    "* 베이지안 통계의 기본은 베이즈 이론이고, 베이즈 이론의 기본은 조건부 확률이다. \n",
    "* 베이즈 이론을 사용해 조건부확률과 관련된 문제를 다뤄보고 베이즈 이론을 베이지안 통계로 전환하는 내용은 추후에 다루기로 한다."
   ]
  },
  {
   "cell_type": "markdown",
   "id": "399e9ec2-515c-437d-adb4-aba06724f641",
   "metadata": {},
   "source": [
    "## Linda the Banker\n",
    "\n",
    "To introduce conditional probability, I'll use an example from a [famous experiment by Tversky and Kahneman](https://en.wikipedia.org/wiki/Conjunction_fallacy), who posed the following question:\n",
    "* 아래의 질문에 답한다면? (린다를 설명하는 문장 중 더 가능성 있는 말은?)\n",
    "\n",
    "> Linda is 31 years old, single, outspoken, and very bright. She majored in philosophy. As a student, she was deeply concerned with issues of discrimination and social justice, and also participated in anti-nuclear demonstrations.  Which is more probable?\n",
    "> 1. Linda is a bank teller.\n",
    "> 2. Linda is a bank teller and is active in the feminist movement.\n",
    "\n",
    "* 대부분의 사람들은 두 번째를 답으로 선택하지만, 두 번째 답이 질문에서 요구하는 것처럼 더 가능성이 있을 수는 없다.\n"
   ]
  },
  {
   "cell_type": "markdown",
   "id": "5fff731c-ac18-48dd-8504-3e90e92b8b97",
   "metadata": {},
   "source": [
    "If you were inclined to choose the second option, you are in good company.  The biologist [Stephen J. Gould wrote](https://doi.org/10.1080/09332480.1989.10554932) :\n",
    "\n",
    "> I am particularly fond of this example because I know that the [second] statement is least probable, yet a little [homunculus](https://en.wikipedia.org/wiki/Homunculus_argument) in my head continues to jump up and down, shouting at me, \"but she can't just be a bank teller; read the description.\"\n",
    "\n",
    "If the little person in your head is still unhappy, maybe this chapter will help."
   ]
  },
  {
   "cell_type": "markdown",
   "id": "70176be0-2cd3-482c-90d1-9e5e57f01812",
   "metadata": {},
   "source": [
    "## Probability\n",
    "* 확률(probability) 에 대해 정의는 의외로 [까다롭다](https://en.wikipedia.org/wiki/Probability_interpretations).\n",
    "* 쉽게 진행하기 위해 확률은 유한한 집합에서의 비율로 생각해보자\n",
    "* 예를 들어, 1000명의 사람들에 대해 설문조사를 하는데, 그 중 20명이 은행원이었다면, 은행원의 비율은 0.02 혹은 2%다. 이 1000명의 사람 중에 임의의 한 사람을 골랐을 때, 그 사람이 은행원일 확률은 2%다. '임의로'에 내포된 것은 모든 사람이 선택될 가능성이 같다는 점이다.\n",
    "* [General Social Survey](http://gss.norc.org/) (GSS). 로 예시를 살펴보자"
   ]
  },
  {
   "cell_type": "markdown",
   "id": "702a2210-11b5-443b-8e77-ec921d422aff",
   "metadata": {
    "tags": []
   },
   "source": [
    "The following cell downloads the data."
   ]
  },
  {
   "cell_type": "code",
   "execution_count": 1,
   "id": "f1852e3a-bf87-4597-8fcd-0f5cfb34bd1a",
   "metadata": {
    "execution": {
     "iopub.execute_input": "2021-04-16T19:35:08.628591Z",
     "iopub.status.busy": "2021-04-16T19:35:08.627766Z",
     "iopub.status.idle": "2021-04-16T19:35:08.630508Z",
     "shell.execute_reply": "2021-04-16T19:35:08.629988Z"
    },
    "tags": []
   },
   "outputs": [
    {
     "name": "stdout",
     "output_type": "stream",
     "text": [
      "Downloaded gss_bayes.csv\n"
     ]
    }
   ],
   "source": [
    "# Load the data file\n",
    "\n",
    "from os.path import basename, exists\n",
    "\n",
    "def download(url):\n",
    "    filename = basename(url)\n",
    "    if not exists(filename):\n",
    "        from urllib.request import urlretrieve\n",
    "        local, _ = urlretrieve(url, filename)\n",
    "        print('Downloaded ' + local)\n",
    "    \n",
    "download('https://github.com/AllenDowney/ThinkBayes2/raw/master/data/gss_bayes.csv')"
   ]
  },
  {
   "cell_type": "markdown",
   "id": "5b17f3d2-555b-4dbd-9745-4e81b3353fa2",
   "metadata": {},
   "source": [
    "I'll use Pandas to read the data and store it in a `DataFrame`."
   ]
  },
  {
   "cell_type": "code",
   "execution_count": 2,
   "id": "ddf45834-f194-4172-bd9a-956883649d65",
   "metadata": {
    "execution": {
     "iopub.execute_input": "2021-04-16T19:35:08.634488Z",
     "iopub.status.busy": "2021-04-16T19:35:08.633720Z",
     "iopub.status.idle": "2021-04-16T19:35:09.081049Z",
     "shell.execute_reply": "2021-04-16T19:35:09.081454Z"
    }
   },
   "outputs": [
    {
     "data": {
      "text/html": [
       "<div>\n",
       "<style scoped>\n",
       "    .dataframe tbody tr th:only-of-type {\n",
       "        vertical-align: middle;\n",
       "    }\n",
       "\n",
       "    .dataframe tbody tr th {\n",
       "        vertical-align: top;\n",
       "    }\n",
       "\n",
       "    .dataframe thead th {\n",
       "        text-align: right;\n",
       "    }\n",
       "</style>\n",
       "<table border=\"1\" class=\"dataframe\">\n",
       "  <thead>\n",
       "    <tr style=\"text-align: right;\">\n",
       "      <th></th>\n",
       "      <th>year</th>\n",
       "      <th>age</th>\n",
       "      <th>sex</th>\n",
       "      <th>polviews</th>\n",
       "      <th>partyid</th>\n",
       "      <th>indus10</th>\n",
       "    </tr>\n",
       "    <tr>\n",
       "      <th>caseid</th>\n",
       "      <th></th>\n",
       "      <th></th>\n",
       "      <th></th>\n",
       "      <th></th>\n",
       "      <th></th>\n",
       "      <th></th>\n",
       "    </tr>\n",
       "  </thead>\n",
       "  <tbody>\n",
       "    <tr>\n",
       "      <th>1</th>\n",
       "      <td>1974</td>\n",
       "      <td>21.0</td>\n",
       "      <td>1</td>\n",
       "      <td>4.0</td>\n",
       "      <td>2.0</td>\n",
       "      <td>4970.0</td>\n",
       "    </tr>\n",
       "    <tr>\n",
       "      <th>2</th>\n",
       "      <td>1974</td>\n",
       "      <td>41.0</td>\n",
       "      <td>1</td>\n",
       "      <td>5.0</td>\n",
       "      <td>0.0</td>\n",
       "      <td>9160.0</td>\n",
       "    </tr>\n",
       "    <tr>\n",
       "      <th>5</th>\n",
       "      <td>1974</td>\n",
       "      <td>58.0</td>\n",
       "      <td>2</td>\n",
       "      <td>6.0</td>\n",
       "      <td>1.0</td>\n",
       "      <td>2670.0</td>\n",
       "    </tr>\n",
       "    <tr>\n",
       "      <th>6</th>\n",
       "      <td>1974</td>\n",
       "      <td>30.0</td>\n",
       "      <td>1</td>\n",
       "      <td>5.0</td>\n",
       "      <td>4.0</td>\n",
       "      <td>6870.0</td>\n",
       "    </tr>\n",
       "    <tr>\n",
       "      <th>7</th>\n",
       "      <td>1974</td>\n",
       "      <td>48.0</td>\n",
       "      <td>1</td>\n",
       "      <td>5.0</td>\n",
       "      <td>4.0</td>\n",
       "      <td>7860.0</td>\n",
       "    </tr>\n",
       "  </tbody>\n",
       "</table>\n",
       "</div>"
      ],
      "text/plain": [
       "        year   age  sex  polviews  partyid  indus10\n",
       "caseid                                             \n",
       "1       1974  21.0    1       4.0      2.0   4970.0\n",
       "2       1974  41.0    1       5.0      0.0   9160.0\n",
       "5       1974  58.0    2       6.0      1.0   2670.0\n",
       "6       1974  30.0    1       5.0      4.0   6870.0\n",
       "7       1974  48.0    1       5.0      4.0   7860.0"
      ]
     },
     "execution_count": 2,
     "metadata": {},
     "output_type": "execute_result"
    }
   ],
   "source": [
    "import pandas as pd\n",
    "\n",
    "gss = pd.read_csv('gss_bayes.csv', index_col=0)\n",
    "gss.head()"
   ]
  },
  {
   "cell_type": "markdown",
   "id": "5e3b352e-a408-4b37-a10d-034f54d61167",
   "metadata": {},
   "source": [
    "### Data Description\n",
    "* `caseid`: Respondent id (which is the index of the table).\n",
    "\n",
    "* `year`: Year when the respondent was surveyed.\n",
    "\n",
    "* `age`: Respondent's age when surveyed.\n",
    "\n",
    "* `sex`: Male or female.\n",
    "\n",
    "* `polviews`: Political views on a range from liberal to conservative.\n",
    "\n",
    "* `partyid`: Political party affiliation, Democrat, Independent, or Republican.\n",
    "\n",
    "* `indus10`: [Code](https://www.census.gov/cgi-bin/sssd/naics/naicsrch?chart=2007) for the industry the respondent works in.\n",
    "    * 산업 코드에 대한 부분은 link 참조"
   ]
  },
  {
   "cell_type": "markdown",
   "id": "1b3b8118-a9fc-40d7-a633-6b6399313a4e",
   "metadata": {},
   "source": [
    "## Fraction of Bankers\n",
    "* 은행원의 비율은 아래의 코드로 알 수 있다."
   ]
  },
  {
   "cell_type": "code",
   "execution_count": 3,
   "id": "a1351bee-d366-44b3-8a33-d74bf721106e",
   "metadata": {
    "execution": {
     "iopub.execute_input": "2021-04-16T19:35:09.085579Z",
     "iopub.status.busy": "2021-04-16T19:35:09.084990Z",
     "iopub.status.idle": "2021-04-16T19:35:09.096470Z",
     "shell.execute_reply": "2021-04-16T19:35:09.095986Z"
    }
   },
   "outputs": [
    {
     "data": {
      "text/plain": [
       "caseid\n",
       "1    False\n",
       "2    False\n",
       "5    False\n",
       "6     True\n",
       "7    False\n",
       "Name: indus10, dtype: bool"
      ]
     },
     "execution_count": 3,
     "metadata": {},
     "output_type": "execute_result"
    }
   ],
   "source": [
    "banker = (gss['indus10'] == 6870)\n",
    "banker.head()"
   ]
  },
  {
   "cell_type": "markdown",
   "id": "dd0c6d3e-6223-4ed5-9e01-4cb4d1162800",
   "metadata": {},
   "source": [
    "* row 단위로 은행원 여부에 대해 bool 값을 가지는 Series 가 return 되어서 결과에 대해 집계 함수를 사용하면 원하는 결과를 얻을 수 있다."
   ]
  },
  {
   "cell_type": "code",
   "execution_count": 4,
   "id": "ba4c710b-7f5a-4002-b7b2-9e7739aa64ac",
   "metadata": {
    "execution": {
     "iopub.execute_input": "2021-04-16T19:35:09.100573Z",
     "iopub.status.busy": "2021-04-16T19:35:09.100000Z",
     "iopub.status.idle": "2021-04-16T19:35:09.103808Z",
     "shell.execute_reply": "2021-04-16T19:35:09.103159Z"
    }
   },
   "outputs": [
    {
     "data": {
      "text/plain": [
       "728"
      ]
     },
     "execution_count": 4,
     "metadata": {},
     "output_type": "execute_result"
    }
   ],
   "source": [
    "banker.sum()"
   ]
  },
  {
   "cell_type": "markdown",
   "id": "4a8aba2b-86c3-4274-87cf-f6a7f87d20bd",
   "metadata": {},
   "source": [
    "* 728 명의 은행원이 있고 이에 대한 비율은 mean 함수로 얻을 수 있다."
   ]
  },
  {
   "cell_type": "code",
   "execution_count": 6,
   "id": "caa67829-24da-4465-a368-f647c2fa83b2",
   "metadata": {
    "execution": {
     "iopub.execute_input": "2021-04-16T19:35:09.108607Z",
     "iopub.status.busy": "2021-04-16T19:35:09.107935Z",
     "iopub.status.idle": "2021-04-16T19:35:09.110861Z",
     "shell.execute_reply": "2021-04-16T19:35:09.111310Z"
    }
   },
   "outputs": [
    {
     "data": {
      "text/plain": [
       "0.014769730168391155"
      ]
     },
     "execution_count": 6,
     "metadata": {},
     "output_type": "execute_result"
    }
   ],
   "source": [
    "banker.mean()"
   ]
  },
  {
   "cell_type": "markdown",
   "id": "922f5fa4-6ac5-4a2d-9051-62a066c8af52",
   "metadata": {},
   "source": [
    "About 1.5% of the respondents work in banking, so if we choose a random person from the dataset, the probability they are a banker is about 1.5%."
   ]
  },
  {
   "cell_type": "markdown",
   "id": "c5c187b1-c1b9-4f1c-9361-b76c8deadf87",
   "metadata": {},
   "source": [
    "## The Probability Function\n",
    "\n",
    "* 앞에서 얻은 boolean 값을 가지는 Series 를 넣을 때 그 확률을 얻는 함수를 아래와 같이 지정"
   ]
  },
  {
   "cell_type": "code",
   "execution_count": 7,
   "id": "c5112039-3fd9-4fd6-864c-d2c6f99d7e7f",
   "metadata": {
    "execution": {
     "iopub.execute_input": "2021-04-16T19:35:09.115436Z",
     "iopub.status.busy": "2021-04-16T19:35:09.114857Z",
     "iopub.status.idle": "2021-04-16T19:35:09.116926Z",
     "shell.execute_reply": "2021-04-16T19:35:09.117430Z"
    }
   },
   "outputs": [],
   "source": [
    "def prob(A):\n",
    "    \"\"\"Computes the probability of a proposition, A.\"\"\"    \n",
    "    return A.mean()"
   ]
  },
  {
   "cell_type": "markdown",
   "id": "4d6c7a5a-07c0-478e-a930-bc2fe7ad6b92",
   "metadata": {},
   "source": [
    "So we can compute the fraction of bankers like this:"
   ]
  },
  {
   "cell_type": "code",
   "execution_count": 8,
   "id": "d0022a16-1e77-47b8-b53f-2db03a8e0a45",
   "metadata": {
    "execution": {
     "iopub.execute_input": "2021-04-16T19:35:09.121943Z",
     "iopub.status.busy": "2021-04-16T19:35:09.121067Z",
     "iopub.status.idle": "2021-04-16T19:35:09.124766Z",
     "shell.execute_reply": "2021-04-16T19:35:09.125312Z"
    }
   },
   "outputs": [
    {
     "data": {
      "text/plain": [
       "0.014769730168391155"
      ]
     },
     "execution_count": 8,
     "metadata": {},
     "output_type": "execute_result"
    }
   ],
   "source": [
    "prob(banker)"
   ]
  },
  {
   "cell_type": "markdown",
   "id": "b650d2e1-7578-4936-a39a-892ceb2ee1a6",
   "metadata": {},
   "source": [
    "* 성별의 변수를 똑같이 적용해보면 아래와 같이 가능하다. 여성 (female) 일 확률은 똑같이 Series 를 생성한다.\n",
    "```\n",
    "1    Male\n",
    "2    Female\n",
    "```"
   ]
  },
  {
   "cell_type": "code",
   "execution_count": 9,
   "id": "50f6099d-2dac-4dc0-932a-c97c18046c40",
   "metadata": {
    "execution": {
     "iopub.execute_input": "2021-04-16T19:35:09.133453Z",
     "iopub.status.busy": "2021-04-16T19:35:09.132833Z",
     "iopub.status.idle": "2021-04-16T19:35:09.135227Z",
     "shell.execute_reply": "2021-04-16T19:35:09.134787Z"
    }
   },
   "outputs": [],
   "source": [
    "female = (gss['sex'] == 2)"
   ]
  },
  {
   "cell_type": "markdown",
   "id": "b2ba4a51-507f-4253-8f68-17a05c964190",
   "metadata": {},
   "source": [
    "And use it to compute the fraction of respondents who are women."
   ]
  },
  {
   "cell_type": "code",
   "execution_count": 10,
   "id": "6f402fc2-4bd9-4bd9-98b3-8dc334029791",
   "metadata": {
    "execution": {
     "iopub.execute_input": "2021-04-16T19:35:09.138777Z",
     "iopub.status.busy": "2021-04-16T19:35:09.138234Z",
     "iopub.status.idle": "2021-04-16T19:35:09.140987Z",
     "shell.execute_reply": "2021-04-16T19:35:09.140543Z"
    }
   },
   "outputs": [
    {
     "data": {
      "text/plain": [
       "0.5378575776019476"
      ]
     },
     "execution_count": 10,
     "metadata": {},
     "output_type": "execute_result"
    }
   ],
   "source": [
    "prob(female)"
   ]
  },
  {
   "cell_type": "markdown",
   "id": "b36541d9-152a-465c-85a3-9097be7d109c",
   "metadata": {},
   "source": [
    "* The fraction of women in this dataset is higher than in the adult U.S. population because [the GSS does not include people living in institutions](https://gss.norc.org/faq) like prisons and military housing, and those populations are more likely to be male."
   ]
  },
  {
   "cell_type": "markdown",
   "id": "d09e16f6-d4c7-4441-822c-40e489ba6f12",
   "metadata": {},
   "source": [
    "## Political Views and Parties\n",
    "\n",
    "정치적 성향을 나타내는 `polviews` 와 소속 정당을 나타내는 `partyid` 를 살펴보자.\n",
    "\n",
    "The values of `polviews` are on a seven-point scale:\n",
    "\n",
    "```\n",
    "1\t매우 진보적\n",
    "2\t진보적\n",
    "3\t약간 진보적\n",
    "4\t중립\n",
    "5\t조금 보수적\n",
    "6\t보수적\n",
    "7\t매우 보수적\n",
    "```\n",
    "\n",
    "* `liberal` 은 '매우 진보적', '진보적', '조금 진보적' 이라고 응답한 경우 (True) 로 정의"
   ]
  },
  {
   "cell_type": "code",
   "execution_count": 11,
   "id": "6b00f850-28cd-4625-a8ef-a7e1e1c7f95c",
   "metadata": {
    "execution": {
     "iopub.execute_input": "2021-04-16T19:35:09.144820Z",
     "iopub.status.busy": "2021-04-16T19:35:09.144315Z",
     "iopub.status.idle": "2021-04-16T19:35:09.146158Z",
     "shell.execute_reply": "2021-04-16T19:35:09.146493Z"
    }
   },
   "outputs": [],
   "source": [
    "liberal = (gss['polviews'] <= 3)"
   ]
  },
  {
   "cell_type": "markdown",
   "id": "c3d16819-dbaa-43c4-8ef2-9e7cb73746e8",
   "metadata": {},
   "source": [
    "* 응답자가 진보적 정치 성향을 가질 확률은 아래와 같다."
   ]
  },
  {
   "cell_type": "code",
   "execution_count": 13,
   "id": "ff0f7d9c-ba35-49ac-9fad-f09d4f611a24",
   "metadata": {
    "execution": {
     "iopub.execute_input": "2021-04-16T19:35:09.150191Z",
     "iopub.status.busy": "2021-04-16T19:35:09.149628Z",
     "iopub.status.idle": "2021-04-16T19:35:09.152382Z",
     "shell.execute_reply": "2021-04-16T19:35:09.152013Z"
    }
   },
   "outputs": [
    {
     "data": {
      "text/plain": [
       "0.27374721038750255"
      ]
     },
     "execution_count": 13,
     "metadata": {},
     "output_type": "execute_result"
    }
   ],
   "source": [
    "prob(liberal)"
   ]
  },
  {
   "cell_type": "markdown",
   "id": "8157927e-4a88-4e25-8c3b-309418813890",
   "metadata": {},
   "source": [
    "* 이 Dataset 을 기준으로 진보적 정치 성향의 응답자가 선택될 확률은 27% 이다."
   ]
  },
  {
   "cell_type": "markdown",
   "id": "9f77e8e3-2645-4b27-b886-cbb93d8f1d97",
   "metadata": {},
   "source": [
    "The values of `partyid` are encoded like this:\n",
    "\n",
    "```\n",
    "0\t적극적 민주당원\n",
    "1\t보통 민주당원\n",
    "2\t무소속이나 민주당 지지\n",
    "3\t무소속\n",
    "4\t무소속이나 공화당 지지\n",
    "5\t보통 공화당원\n",
    "6\t적극적 공화당원\n",
    "7\t다른 정당원\n",
    "```\n",
    "\n",
    "* `democrat` 를 적극적 민주당원 이거나 보통 민주당원인 응답자를 포함한다 정의"
   ]
  },
  {
   "cell_type": "code",
   "execution_count": 14,
   "id": "54df339c-14cd-4e93-a495-60460dead45b",
   "metadata": {
    "execution": {
     "iopub.execute_input": "2021-04-16T19:35:09.156357Z",
     "iopub.status.busy": "2021-04-16T19:35:09.155780Z",
     "iopub.status.idle": "2021-04-16T19:35:09.158246Z",
     "shell.execute_reply": "2021-04-16T19:35:09.157752Z"
    }
   },
   "outputs": [],
   "source": [
    "democrat = (gss['partyid'] <= 1)"
   ]
  },
  {
   "cell_type": "markdown",
   "id": "9fa1b033-fd25-4f1e-9e6e-524cebb7f849",
   "metadata": {},
   "source": [
    "* 민주당원이라 응답한 사람의 비중은 아래와 같다."
   ]
  },
  {
   "cell_type": "code",
   "execution_count": 15,
   "id": "1322790f-16fd-4f55-aa98-fc4deb4a0178",
   "metadata": {
    "execution": {
     "iopub.execute_input": "2021-04-16T19:35:09.162885Z",
     "iopub.status.busy": "2021-04-16T19:35:09.162111Z",
     "iopub.status.idle": "2021-04-16T19:35:09.164826Z",
     "shell.execute_reply": "2021-04-16T19:35:09.165317Z"
    }
   },
   "outputs": [
    {
     "data": {
      "text/plain": [
       "0.3662609048488537"
      ]
     },
     "execution_count": 15,
     "metadata": {},
     "output_type": "execute_result"
    }
   ],
   "source": [
    "prob(democrat)"
   ]
  },
  {
   "cell_type": "markdown",
   "id": "3e843b0c-854a-4990-a998-7ff94b4c5526",
   "metadata": {},
   "source": [
    "## Conjunction\n",
    "\n",
    "* 앞서 확률을 정의하고 이를 계산한 함수를 만들었으니, 논리곱(Conjunction) 에 대해 알아보자\n",
    "* \"Conjunction\" 은 `and` operation 의 다른 이름이다.  만약 두 개의 [명제](https://en.wikipedia.org/wiki/Proposition), `A` 와 `B`가 있을때, A와 B가 모두 참이면 A와 B의 논리곱은 참이고, 아닌 경우는 거짓이다. 두 개의 boolean Series 에 & 연산자를 추가하면 쉽게 논리곱을 구할 수 있다.\n",
    "* 예를 들어 응답자가 은행원이면서 민주당원일 확률은 아래와 같다."
   ]
  },
  {
   "cell_type": "code",
   "execution_count": 16,
   "id": "4f648800-48ae-48b9-a2b9-1af0778ab7c3",
   "metadata": {
    "execution": {
     "iopub.execute_input": "2021-04-16T19:35:09.169647Z",
     "iopub.status.busy": "2021-04-16T19:35:09.168929Z",
     "iopub.status.idle": "2021-04-16T19:35:09.171685Z",
     "shell.execute_reply": "2021-04-16T19:35:09.171252Z"
    }
   },
   "outputs": [
    {
     "data": {
      "text/plain": [
       "0.014769730168391155"
      ]
     },
     "execution_count": 16,
     "metadata": {},
     "output_type": "execute_result"
    }
   ],
   "source": [
    "prob(banker)"
   ]
  },
  {
   "cell_type": "code",
   "execution_count": 17,
   "id": "ec7ae003-d413-40b6-8672-eadfaac53eaa",
   "metadata": {
    "execution": {
     "iopub.execute_input": "2021-04-16T19:35:09.175131Z",
     "iopub.status.busy": "2021-04-16T19:35:09.174679Z",
     "iopub.status.idle": "2021-04-16T19:35:09.176933Z",
     "shell.execute_reply": "2021-04-16T19:35:09.177292Z"
    }
   },
   "outputs": [
    {
     "data": {
      "text/plain": [
       "0.3662609048488537"
      ]
     },
     "execution_count": 17,
     "metadata": {},
     "output_type": "execute_result"
    }
   ],
   "source": [
    "prob(democrat)"
   ]
  },
  {
   "cell_type": "code",
   "execution_count": 18,
   "id": "38bfb173-d14a-4019-a9e1-e8543acd9928",
   "metadata": {
    "execution": {
     "iopub.execute_input": "2021-04-16T19:35:09.180713Z",
     "iopub.status.busy": "2021-04-16T19:35:09.180011Z",
     "iopub.status.idle": "2021-04-16T19:35:09.183970Z",
     "shell.execute_reply": "2021-04-16T19:35:09.183516Z"
    }
   },
   "outputs": [
    {
     "data": {
      "text/plain": [
       "0.004686548995739501"
      ]
     },
     "execution_count": 18,
     "metadata": {},
     "output_type": "execute_result"
    }
   ],
   "source": [
    "prob(banker & democrat)"
   ]
  },
  {
   "cell_type": "markdown",
   "id": "8da0de75-06c0-4d59-93fc-c1fd1c9377bb",
   "metadata": {},
   "source": [
    "* 예상할 수 있듯, `prob(banker & democrat)` 은 `prob(banker)` 보다 작다. 모든 은행원이 민주당우너이 아니기 때문이다.\n",
    "* 또한 논리곱은 교환 법칙이 성립한다. (that is, `A & B` should be the same as `B & A`, To check, we can also compute `prob(democrat & banker)`)"
   ]
  },
  {
   "cell_type": "code",
   "execution_count": 19,
   "id": "d1b0cf7e-ec57-4708-a2d2-9e9bd0216ce4",
   "metadata": {
    "execution": {
     "iopub.execute_input": "2021-04-16T19:35:09.187308Z",
     "iopub.status.busy": "2021-04-16T19:35:09.186747Z",
     "iopub.status.idle": "2021-04-16T19:35:09.189804Z",
     "shell.execute_reply": "2021-04-16T19:35:09.190185Z"
    }
   },
   "outputs": [
    {
     "data": {
      "text/plain": [
       "0.004686548995739501"
      ]
     },
     "execution_count": 19,
     "metadata": {},
     "output_type": "execute_result"
    }
   ],
   "source": [
    "prob(democrat & banker)"
   ]
  },
  {
   "cell_type": "markdown",
   "id": "8c7b76a9-31d0-41f4-93e6-9f904de4edbe",
   "metadata": {},
   "source": [
    "## Conditional Probability\n",
    "\n",
    "* 조건부 확률은 조건에 따른 확률이지만 한번에 와닿는 정의는 아니다. 아래의 예시를 보자.\n",
    "\n",
    "    * 한 응답자가 진보적이라고 했을 때, 이 응답자가 민주당원일 확률은?\n",
    "\n",
    "    * 한 응답자가 은행원일 때, 이 응답자가 여성일 확률은?\n",
    "\n",
    "    * 한 응답자가 여성일 때, 이 응답자가 진보적일 확률은?\n",
    "\n",
    "* 첫 번째 질문의 경우 \"모든 진보 성향 응답자 중, 민주당원의 비율은 얼마인가?\" 로 치환이 가능하다. (즉, 비율의 비율로 생각할 수 있다)\n",
    "* 이를 아래의 두 단계로 계산이 가능하다.\n",
    "1. 모든 진보 성향의 응답자를 골라낸다.\n",
    "2. 이 중 민주당원의 비율을 구한다.\n",
    "* 대괄호 [] 를 사용해 진보 성향 응답자를 골라낸다."
   ]
  },
  {
   "cell_type": "code",
   "execution_count": 20,
   "id": "dc7c4b02-7601-408e-ab66-0a471326d78f",
   "metadata": {
    "execution": {
     "iopub.execute_input": "2021-04-16T19:35:09.193582Z",
     "iopub.status.busy": "2021-04-16T19:35:09.192986Z",
     "iopub.status.idle": "2021-04-16T19:35:09.196312Z",
     "shell.execute_reply": "2021-04-16T19:35:09.195843Z"
    }
   },
   "outputs": [],
   "source": [
    "selected = democrat[liberal]"
   ]
  },
  {
   "cell_type": "markdown",
   "id": "5fd6c52b-cec6-4528-a260-f91da1879aea",
   "metadata": {},
   "source": [
    "`selected` 변수는 진보 성향 응답자 중에 `democrat`, 즉 민주당원인 경우을 포함하므로 `prob(selected)` 진보 성향 응답자 중 민주당원의 비율을 계산한다."
   ]
  },
  {
   "cell_type": "code",
   "execution_count": 21,
   "id": "338d0faf-e256-47b5-93b0-6cf9d1c3c328",
   "metadata": {
    "execution": {
     "iopub.execute_input": "2021-04-16T19:35:09.200734Z",
     "iopub.status.busy": "2021-04-16T19:35:09.199974Z",
     "iopub.status.idle": "2021-04-16T19:35:09.202760Z",
     "shell.execute_reply": "2021-04-16T19:35:09.203214Z"
    }
   },
   "outputs": [
    {
     "data": {
      "text/plain": [
       "0.5206403320240125"
      ]
     },
     "execution_count": 21,
     "metadata": {},
     "output_type": "execute_result"
    }
   ],
   "source": [
    "prob(selected)"
   ]
  },
  {
   "cell_type": "markdown",
   "id": "4a120007-3477-463a-adf4-cf72b19819ac",
   "metadata": {},
   "source": [
    "* 진보 성향인 사람 중 절반 조금 넘는 사람들이 민주당원이다.  이 값이 예상보다 낮다면 다음의 내용을 고려해보자:\n",
    "\n",
    "1. 민주당원 이라는 말을 엄격하게 정의하여 민주당 '지지자' 는 데이터에 반영되지 않음.\n",
    "\n",
    "2. 이 데이터셋은 1974년의 응답자까지만 포함한다. 수집 기간 중 초기에는 오늘날에 비해 정치관과 정당 참여 정도가 덜 일치했다.\n",
    "\n",
    "* 질문을 바꿔, 한 응답자가 은행원일 때 이 응답자가 여성일 확률을 구하려고 할 떄, 이 문제는 모든 은행원 중 여성의 비율은 얼마인가로 해석이 가능하다."
   ]
  },
  {
   "cell_type": "code",
   "execution_count": 22,
   "id": "90b1f9e6-dce4-4d7b-ac5e-82add69f4ee0",
   "metadata": {
    "execution": {
     "iopub.execute_input": "2021-04-16T19:35:09.206724Z",
     "iopub.status.busy": "2021-04-16T19:35:09.206015Z",
     "iopub.status.idle": "2021-04-16T19:35:09.209768Z",
     "shell.execute_reply": "2021-04-16T19:35:09.210120Z"
    }
   },
   "outputs": [
    {
     "data": {
      "text/plain": [
       "0.7706043956043956"
      ]
     },
     "execution_count": 22,
     "metadata": {},
     "output_type": "execute_result"
    }
   ],
   "source": [
    "selected = female[banker]\n",
    "prob(selected)"
   ]
  },
  {
   "cell_type": "markdown",
   "id": "cc3213e0-3f09-4a7e-bedd-2d343f3b1aab",
   "metadata": {},
   "source": [
    "* 약 77% 의 은행원들이 여성이다.\n",
    "* 이 조건부확률을 구하는 방식을 function으로 wrapping 하면 아래와 같다.\n",
    "    * `conditional` 함수는 두 개의 Boolean series 인 `proposition`, `given`을 받는다. `given` 이 주어졌을 때 `proposition` 의 조건부확률을 구한다:"
   ]
  },
  {
   "cell_type": "code",
   "execution_count": 23,
   "id": "37395ef5-65f1-40e0-8d28-c445543d9e68",
   "metadata": {
    "execution": {
     "iopub.execute_input": "2021-04-16T19:35:09.213058Z",
     "iopub.status.busy": "2021-04-16T19:35:09.212636Z",
     "iopub.status.idle": "2021-04-16T19:35:09.214860Z",
     "shell.execute_reply": "2021-04-16T19:35:09.214485Z"
    }
   },
   "outputs": [],
   "source": [
    "def conditional(proposition, given):\n",
    "    \"\"\"Probability of A conditioned on given.\"\"\"\n",
    "    return prob(proposition[given])"
   ]
  },
  {
   "cell_type": "markdown",
   "id": "bcb026a0-39ce-4b4f-ba27-8cc3802c2c55",
   "metadata": {},
   "source": [
    "* 응답자가 여성일 때, 해당 응답자가 진보 성향일 확률은 아래와 같다."
   ]
  },
  {
   "cell_type": "code",
   "execution_count": 25,
   "id": "4061234b-a518-4059-ad61-3a9753b06116",
   "metadata": {
    "execution": {
     "iopub.execute_input": "2021-04-16T19:35:09.218614Z",
     "iopub.status.busy": "2021-04-16T19:35:09.218019Z",
     "iopub.status.idle": "2021-04-16T19:35:09.222351Z",
     "shell.execute_reply": "2021-04-16T19:35:09.221981Z"
    }
   },
   "outputs": [
    {
     "data": {
      "text/plain": [
       "0.27581004111500884"
      ]
     },
     "execution_count": 25,
     "metadata": {},
     "output_type": "execute_result"
    }
   ],
   "source": [
    "conditional(liberal, given=female)"
   ]
  },
  {
   "cell_type": "markdown",
   "id": "3add75ee-dfa3-43b7-b508-1c05490a16f4",
   "metadata": {},
   "source": [
    "* 함수의 given parameter 를 명시해줌으로써 가독성을 높일 수 있다."
   ]
  },
  {
   "cell_type": "markdown",
   "id": "6405e7d0-a543-486b-b5bc-ee5500efcee1",
   "metadata": {},
   "source": [
    "## Conditional Probability Is Not Commutative\n",
    "* 앞서 본 논리곱은 교환 가능한 성질을 가지고 있음을 확인했다. `prob(A & B)` 은 `prob(B & A)` 와 같다.\n",
    "* 하지만 조건부확률은 교환 법칙이 성립하지 않는다; 즉 `conditional(A, B)` 은 `conditional(B, A)` 와 같지 않다.\n",
    "* 예시를 통해 보면 쉽게 알 수 있다."
   ]
  },
  {
   "cell_type": "code",
   "execution_count": 26,
   "id": "afd68da1-fca1-41fe-9c33-f93a8cb2925e",
   "metadata": {
    "execution": {
     "iopub.execute_input": "2021-04-16T19:35:09.225222Z",
     "iopub.status.busy": "2021-04-16T19:35:09.224726Z",
     "iopub.status.idle": "2021-04-16T19:35:09.228199Z",
     "shell.execute_reply": "2021-04-16T19:35:09.227808Z"
    }
   },
   "outputs": [
    {
     "data": {
      "text/plain": [
       "0.7706043956043956"
      ]
     },
     "execution_count": 26,
     "metadata": {},
     "output_type": "execute_result"
    }
   ],
   "source": [
    "conditional(female, given=banker)"
   ]
  },
  {
   "cell_type": "markdown",
   "id": "95edc444-50fe-4ed5-ab4c-e6294428888a",
   "metadata": {},
   "source": [
    "* 위 결과는 응답자가 은행원일 때, 여성일 확률을 뜻한다. 반대로 응답자가 여성일 때 은행원일 확률은 아래와 같다."
   ]
  },
  {
   "cell_type": "code",
   "execution_count": 27,
   "id": "d61b6436-c514-4a63-ae0f-6c8c427eca82",
   "metadata": {
    "execution": {
     "iopub.execute_input": "2021-04-16T19:35:09.231432Z",
     "iopub.status.busy": "2021-04-16T19:35:09.230897Z",
     "iopub.status.idle": "2021-04-16T19:35:09.235411Z",
     "shell.execute_reply": "2021-04-16T19:35:09.235854Z"
    }
   },
   "outputs": [
    {
     "data": {
      "text/plain": [
       "0.02116102749801969"
      ]
     },
     "execution_count": 27,
     "metadata": {},
     "output_type": "execute_result"
    }
   ],
   "source": [
    "conditional(banker, given=female)"
   ]
  },
  {
   "cell_type": "markdown",
   "id": "5f15d71e-aa56-461e-932d-62f6a5968ab1",
   "metadata": {},
   "source": [
    "* 그 확률은 2% 밖에 되지 않다.\n",
    "* 예시 자체는 확실하지만 `conditional(A, B)` 와 `conditional(B, A)` 는 혼동을 주기도 한다. 뒤의 예시에서 더 보기로 한다."
   ]
  },
  {
   "cell_type": "markdown",
   "id": "d36d352e-f3ec-4799-84cd-9ad4be9f12ef",
   "metadata": {},
   "source": [
    "## Condition and Conjunction\n",
    "\n",
    "* 논리곱과 조건부확률을 조합할 수 있다. 예를 들어, 응답자가 진보성향의 민주당원일 때 여성일 확률을 구해보자"
   ]
  },
  {
   "cell_type": "code",
   "execution_count": 28,
   "id": "99b865d3-4b5a-4d33-9771-7b3234c06c4e",
   "metadata": {
    "execution": {
     "iopub.execute_input": "2021-04-16T19:35:09.239595Z",
     "iopub.status.busy": "2021-04-16T19:35:09.239062Z",
     "iopub.status.idle": "2021-04-16T19:35:09.244206Z",
     "shell.execute_reply": "2021-04-16T19:35:09.244621Z"
    }
   },
   "outputs": [
    {
     "data": {
      "text/plain": [
       "0.576085409252669"
      ]
     },
     "execution_count": 28,
     "metadata": {},
     "output_type": "execute_result"
    }
   ],
   "source": [
    "conditional(female, given=liberal & democrat)"
   ]
  },
  {
   "cell_type": "markdown",
   "id": "e493d550-0106-420f-a1ba-e20357febb69",
   "metadata": {},
   "source": [
    "* 약 57% 의 진보성향의 민주당원은 여성이다.\n",
    "* 은행원 중에서 진보성향의 민주당원을 구하면 아래와 같다."
   ]
  },
  {
   "cell_type": "code",
   "execution_count": 29,
   "id": "35ea4056-4ac4-401e-aa6e-eca97d2996d2",
   "metadata": {
    "execution": {
     "iopub.execute_input": "2021-04-16T19:35:09.247749Z",
     "iopub.status.busy": "2021-04-16T19:35:09.247310Z",
     "iopub.status.idle": "2021-04-16T19:35:09.251132Z",
     "shell.execute_reply": "2021-04-16T19:35:09.250686Z"
    }
   },
   "outputs": [
    {
     "data": {
      "text/plain": [
       "0.17307692307692307"
      ]
     },
     "execution_count": 29,
     "metadata": {},
     "output_type": "execute_result"
    }
   ],
   "source": [
    "conditional(liberal & female, given=banker)"
   ]
  },
  {
   "cell_type": "markdown",
   "id": "b2308732-3d17-471f-ad79-232af17edbae",
   "metadata": {},
   "source": [
    "* 약 17% 의 은행원이 진보성향의 여성이다."
   ]
  },
  {
   "cell_type": "markdown",
   "id": "38461c87-ccc0-4c12-b485-aec7828234ae",
   "metadata": {},
   "source": [
    "## Laws of Probability\n",
    "\n",
    "이 절에서는 논리곱과 조건부확률 간의 세 가지 관계를 도출한다:\n",
    "\n",
    "* Theorem 1: 논리곱을 사용한 조건부확률 계산.\n",
    "\n",
    "* Theorem 2: 조건부확률을 사용한 논리곱 계산.\n",
    "\n",
    "* Theorem 3: `conditional(A, B)` 를 사용한 `conditional(B, A)` 의 계산\n",
    "\n",
    "* Theorem 3 은 베이즈이론 Bayes's Theorem 이라 불린다.\n",
    "\n",
    "* using mathematical notation for probability:\n",
    "\n",
    "    * $P(A)$ 는 사건 $A$ 에 대한 확률이다.\n",
    "\n",
    "    * $P(A~\\mathrm{and}~B)$ 는 사건 $A$와 사건 $B$의 논리곱의 확률이다. 즉, $A$와 $B$ 가 모두 참일 확률이다.\n",
    "\n",
    "    * $P(A | B)$ 는 $B$ 가 주어졌을 때, $A$가 참이 ㄹ확률이다. $A$와 $B$ 사이의 세로선은 given 으로 읽는다."
   ]
  },
  {
   "cell_type": "markdown",
   "id": "d99a7d43-8739-4f64-a99a-45afeff809c5",
   "metadata": {},
   "source": [
    "### Theorem 1\n",
    "* 은행원 중 몇 %가 여성인가:\n",
    "\n",
    "1. 중괄호 [] 를 사용해 은행원을 선택하고\n",
    "\n",
    "2. `mean` 함수로 은행원 중 여성의 비율을 구한다"
   ]
  },
  {
   "cell_type": "code",
   "execution_count": 30,
   "id": "0a5c3757-4f15-4fce-8602-784b7660a709",
   "metadata": {
    "execution": {
     "iopub.execute_input": "2021-04-16T19:35:09.254022Z",
     "iopub.status.busy": "2021-04-16T19:35:09.253618Z",
     "iopub.status.idle": "2021-04-16T19:35:09.257836Z",
     "shell.execute_reply": "2021-04-16T19:35:09.258250Z"
    }
   },
   "outputs": [
    {
     "data": {
      "text/plain": [
       "0.7706043956043956"
      ]
     },
     "execution_count": 30,
     "metadata": {},
     "output_type": "execute_result"
    }
   ],
   "source": [
    "female[banker].mean()"
   ]
  },
  {
   "cell_type": "markdown",
   "id": "6474fe34-36c9-4b52-9b17-f6bf8ebb01fa",
   "metadata": {},
   "source": [
    "* 혹은 `conditional` 함수를 쓴다."
   ]
  },
  {
   "cell_type": "code",
   "execution_count": 31,
   "id": "05d2511f-84d3-4a4f-9b3b-95346c8c6158",
   "metadata": {
    "execution": {
     "iopub.execute_input": "2021-04-16T19:35:09.261661Z",
     "iopub.status.busy": "2021-04-16T19:35:09.260776Z",
     "iopub.status.idle": "2021-04-16T19:35:09.264587Z",
     "shell.execute_reply": "2021-04-16T19:35:09.264191Z"
    }
   },
   "outputs": [
    {
     "data": {
      "text/plain": [
       "0.7706043956043956"
      ]
     },
     "execution_count": 31,
     "metadata": {},
     "output_type": "execute_result"
    }
   ],
   "source": [
    "conditional(female, given=banker)"
   ]
  },
  {
   "cell_type": "markdown",
   "id": "4313b5df-ddaf-41ba-9c02-a2b8940d6218",
   "metadata": {},
   "source": [
    "* 반면 두 확률에 대한 비율을 구해 조건부확률을 구하는 방법도 있다:\n",
    "\n",
    "1. 응답자 중 여성 은행원의 비율을 구하고\n",
    "\n",
    "2. 응답자 중 은행원의 비율을 구한다.\n",
    "\n",
    "* 다시말해 , 전체 은행원 중 여성 은행원의 비율은 얼마나 되는지 구하는 것이다."
   ]
  },
  {
   "cell_type": "code",
   "execution_count": 32,
   "id": "7af81912-f513-4c39-837e-8bc1481386b9",
   "metadata": {
    "execution": {
     "iopub.execute_input": "2021-04-16T19:35:09.268221Z",
     "iopub.status.busy": "2021-04-16T19:35:09.267591Z",
     "iopub.status.idle": "2021-04-16T19:35:09.271822Z",
     "shell.execute_reply": "2021-04-16T19:35:09.271337Z"
    }
   },
   "outputs": [
    {
     "data": {
      "text/plain": [
       "0.7706043956043956"
      ]
     },
     "execution_count": 32,
     "metadata": {},
     "output_type": "execute_result"
    }
   ],
   "source": [
    "prob(female & banker) / prob(banker)"
   ]
  },
  {
   "cell_type": "markdown",
   "id": "7d52004e-0c0c-4a6c-a2ee-7bc862543d56",
   "metadata": {},
   "source": [
    "* 결과는 위와 동일하다. 조건부확률과 논리곱을 결합하여 일반적인 규칙을 도출하기 위해 위 예시를 보았다. 수식은 아래와 같다:\n",
    "\n",
    "$$P(A|B) = \\frac{P(A~\\mathrm{and}~B)}{P(B)}$$\n",
    "\n",
    "Theorem 1 확인"
   ]
  },
  {
   "cell_type": "markdown",
   "id": "c690a0b0-5ced-4a02-a547-e70f59f3b6c8",
   "metadata": {},
   "source": [
    "### Theorem 2\n",
    "\n",
    "* Theorem 1 에서 양변에 $P(B)$ 을 곱하면 Theorem 2이 도출된다.\n",
    "\n",
    "$$P(A~\\mathrm{and}~B) = P(B) ~ P(A|B)$$\n",
    "\n",
    "* 이 식은 논리곱을 구하는 또 다른 방식을 보여준다. & 연산자 대신 두 확률을 곱하면 된다.\n",
    "* `liberal` 과 `democrat` 에 적용해볼 때 `&`을 사용하면 아래와 같다."
   ]
  },
  {
   "cell_type": "code",
   "execution_count": 33,
   "id": "82a34e95-bbcd-45ea-8ac0-3ace58c024f6",
   "metadata": {
    "execution": {
     "iopub.execute_input": "2021-04-16T19:35:09.275335Z",
     "iopub.status.busy": "2021-04-16T19:35:09.274699Z",
     "iopub.status.idle": "2021-04-16T19:35:09.278134Z",
     "shell.execute_reply": "2021-04-16T19:35:09.277739Z"
    }
   },
   "outputs": [
    {
     "data": {
      "text/plain": [
       "0.1425238385067965"
      ]
     },
     "execution_count": 33,
     "metadata": {},
     "output_type": "execute_result"
    }
   ],
   "source": [
    "prob(liberal & democrat)"
   ]
  },
  {
   "cell_type": "markdown",
   "id": "30c2b2f6-cde3-422b-bb8c-fc424d76ea2a",
   "metadata": {},
   "source": [
    "* Theorem 2 로 계산하면 아래와 같다."
   ]
  },
  {
   "cell_type": "code",
   "execution_count": 34,
   "id": "d6ff03c7-acb2-4721-bebb-f9df2a18f148",
   "metadata": {
    "execution": {
     "iopub.execute_input": "2021-04-16T19:35:09.282010Z",
     "iopub.status.busy": "2021-04-16T19:35:09.281020Z",
     "iopub.status.idle": "2021-04-16T19:35:09.285790Z",
     "shell.execute_reply": "2021-04-16T19:35:09.286268Z"
    }
   },
   "outputs": [
    {
     "data": {
      "text/plain": [
       "0.1425238385067965"
      ]
     },
     "execution_count": 34,
     "metadata": {},
     "output_type": "execute_result"
    }
   ],
   "source": [
    "prob(democrat) * conditional(liberal, democrat)"
   ]
  },
  {
   "cell_type": "markdown",
   "id": "a245672b-7731-4030-8d2b-babcd29b9952",
   "metadata": {},
   "source": [
    "### Theorem 3\n",
    "\n",
    "아래 수식과 같이 논리곱은 교환 가능하다:\n",
    "\n",
    "$$P(A~\\mathrm{and}~B) = P(B~\\mathrm{and}~A)$$\n",
    "\n",
    "여기에 Theorem 2 적용하면 아래와 같이 도출된다\n",
    "\n",
    "$$P(B) P(A|B) = P(A) P(B|A)$$\n",
    "\n",
    "이는 다음과 같이 해석이 가능하다: 만약 $A$ and $B$ 을 확인하고 싶다면, 다음 중 하나를 선택하면 된다:\n",
    "\n",
    "1. $B$ 먼저 확인하고, 그리고 $A$ conditioned on $B$ 를 살펴본다.\n",
    "\n",
    "2. $A$ 먼저 확인하고, 그리고 $B$ conditioned on $A$ 를 살펴본다.\n",
    "\n",
    "이를 $P(B)$ 로 나누면, Theorem 3 가 도출된다:\n",
    "\n",
    "$$P(A|B) = \\frac{P(A) P(B|A)}{P(B)}$$\n",
    "\n",
    "이것을 베이즈의 정리 (Bayes's Theorem)라 부른다. \n",
    "\n",
    "진보 성향의 은행원의 비율을 구하면서 이 수식이 어떻게 작동하는지 살표보자. `conditional`을 활용한다:"
   ]
  },
  {
   "cell_type": "code",
   "execution_count": 35,
   "id": "d4a87b98-b53d-4eb8-92ea-784192890a77",
   "metadata": {
    "execution": {
     "iopub.execute_input": "2021-04-16T19:35:09.289892Z",
     "iopub.status.busy": "2021-04-16T19:35:09.289327Z",
     "iopub.status.idle": "2021-04-16T19:35:09.292846Z",
     "shell.execute_reply": "2021-04-16T19:35:09.293307Z"
    }
   },
   "outputs": [
    {
     "data": {
      "text/plain": [
       "0.2239010989010989"
      ]
     },
     "execution_count": 35,
     "metadata": {},
     "output_type": "execute_result"
    }
   ],
   "source": [
    "conditional(liberal, given=banker)"
   ]
  },
  {
   "cell_type": "markdown",
   "id": "d95b0048-0441-41aa-861a-78d02e1fc079",
   "metadata": {},
   "source": [
    "using Bayes's Theorem:"
   ]
  },
  {
   "cell_type": "code",
   "execution_count": 36,
   "id": "79c3f5ab-0c70-4c00-8299-b2e11e53564c",
   "metadata": {
    "execution": {
     "iopub.execute_input": "2021-04-16T19:35:09.296917Z",
     "iopub.status.busy": "2021-04-16T19:35:09.296411Z",
     "iopub.status.idle": "2021-04-16T19:35:09.302183Z",
     "shell.execute_reply": "2021-04-16T19:35:09.301729Z"
    }
   },
   "outputs": [
    {
     "data": {
      "text/plain": [
       "0.2239010989010989"
      ]
     },
     "execution_count": 36,
     "metadata": {},
     "output_type": "execute_result"
    }
   ],
   "source": [
    "prob(liberal) * conditional(banker, liberal) / prob(banker)"
   ]
  },
  {
   "cell_type": "markdown",
   "id": "7ac0ed82-4c5b-4453-9d33-a14df0097728",
   "metadata": {},
   "source": [
    "위 두 결과가 동일함을 확인"
   ]
  },
  {
   "cell_type": "markdown",
   "id": "36caf465-1169-4545-84b9-f16b06514631",
   "metadata": {},
   "source": [
    "### The Law of Total Probability\n",
    "\n",
    "앞의 세 정리 외에도, 베이지안 통계를 사용하려면 한 가지의 정리가 더 필요하다. 이를 전확률의 법칙이라 하며 수식은 아래와 같다:\n",
    "\n",
    "$$P(A) = P(B_1 \\mathrm{and} A) + P(B_2 \\mathrm{and} A)$$\n",
    "\n",
    "즉, $A$ 의 전체 확률은 두 확률의 합이다: $B_1$ and $A$ 혹은 $B_2$ and $A$ 두 논리곱이 참인 경우이다.\n",
    "하지만 이 법칙은 $B_1$ 와 $B_2$ 가 다음을 만족해야 ㅎ나다.:\n",
    "\n",
    "* 상호 배타적 , 이는 전체 B 중 하나만 참인 경우이다.\n",
    "* 전체 포괄, 이는 전체 B 중 하나는 반드시 참이다.\n",
    "\n",
    "응답자가 은행원일 확률을 적용해 보자:"
   ]
  },
  {
   "cell_type": "code",
   "execution_count": 37,
   "id": "5306bbc9-82f0-40b0-ba43-f1dd05c12ce8",
   "metadata": {
    "execution": {
     "iopub.execute_input": "2021-04-16T19:35:09.306120Z",
     "iopub.status.busy": "2021-04-16T19:35:09.305480Z",
     "iopub.status.idle": "2021-04-16T19:35:09.308555Z",
     "shell.execute_reply": "2021-04-16T19:35:09.309041Z"
    }
   },
   "outputs": [
    {
     "data": {
      "text/plain": [
       "0.014769730168391155"
      ]
     },
     "execution_count": 37,
     "metadata": {},
     "output_type": "execute_result"
    }
   ],
   "source": [
    "prob(banker)"
   ]
  },
  {
   "cell_type": "markdown",
   "id": "4c4406dd-0512-4084-860c-cbd2c6df8229",
   "metadata": {},
   "source": [
    "* 그럼 남성 은행원과 여성 은행원을 따로 계산했을 때 동일한 값이 나오는지 확인해보자.\n",
    "* 여성 은행원에 대한 Series 는 이미 있기 때문에, 남성 은행원에 대한 Series 를 만들자"
   ]
  },
  {
   "cell_type": "code",
   "execution_count": 38,
   "id": "29fee811-13bf-4708-8160-5164aac6dcef",
   "metadata": {
    "execution": {
     "iopub.execute_input": "2021-04-16T19:35:09.313714Z",
     "iopub.status.busy": "2021-04-16T19:35:09.312851Z",
     "iopub.status.idle": "2021-04-16T19:35:09.315579Z",
     "shell.execute_reply": "2021-04-16T19:35:09.315077Z"
    }
   },
   "outputs": [],
   "source": [
    "male = (gss['sex'] == 1)"
   ]
  },
  {
   "cell_type": "markdown",
   "id": "053ff159-9cf1-4bae-bf32-fbed7407b446",
   "metadata": {},
   "source": [
    "두 확률을 더하면 `banker` 일 확률이 도출된다."
   ]
  },
  {
   "cell_type": "code",
   "execution_count": 39,
   "id": "e593ce3e-8476-4248-bd1c-1467bcc0c9a5",
   "metadata": {
    "execution": {
     "iopub.execute_input": "2021-04-16T19:35:09.320293Z",
     "iopub.status.busy": "2021-04-16T19:35:09.319613Z",
     "iopub.status.idle": "2021-04-16T19:35:09.323814Z",
     "shell.execute_reply": "2021-04-16T19:35:09.324375Z"
    }
   },
   "outputs": [
    {
     "data": {
      "text/plain": [
       "0.014769730168391155"
      ]
     },
     "execution_count": 39,
     "metadata": {},
     "output_type": "execute_result"
    }
   ],
   "source": [
    "prob(male & banker) + prob(female & banker)"
   ]
  },
  {
   "cell_type": "markdown",
   "id": "98e9ad42-4159-4c4a-8281-66a4a94bb82d",
   "metadata": {},
   "source": [
    "* `male` 과 `female` 는 exclusive and collectively exhaustive (MECE) 속성이다. \n",
    "* Theorem 2 를 적용해, 전확률의 법칙을 아래와 같이 쓸 수 있다:\n",
    "\n",
    "$$P(A) = P(B_1) P(A|B_1) + P(B_2) P(A|B_2)$$\n",
    "* 또 이를 예시를 통해 다시 확인이 가능하다."
   ]
  },
  {
   "cell_type": "code",
   "execution_count": 40,
   "id": "24370d1f-4766-4bdc-b27e-f9bbcdb1dbd1",
   "metadata": {
    "execution": {
     "iopub.execute_input": "2021-04-16T19:35:09.330125Z",
     "iopub.status.busy": "2021-04-16T19:35:09.328968Z",
     "iopub.status.idle": "2021-04-16T19:35:09.336156Z",
     "shell.execute_reply": "2021-04-16T19:35:09.335726Z"
    }
   },
   "outputs": [
    {
     "data": {
      "text/plain": [
       "0.014769730168391153"
      ]
     },
     "execution_count": 40,
     "metadata": {},
     "output_type": "execute_result"
    }
   ],
   "source": [
    "(prob(male) * conditional(banker, given=male) +\n",
    "prob(female) * conditional(banker, given=female))"
   ]
  },
  {
   "cell_type": "markdown",
   "id": "6df58c07-4864-45dd-903d-ed92d2161adf",
   "metadata": {},
   "source": [
    "두 개 이상의 condidtion (조건부확률의 조건), 이 있는 경우에는 아래와 같이 summation 으로 전확률의 법칙을 표현할 수 있다:\n",
    "\n",
    "$$P(A) = \\sum_i P(B_i) P(A|B_i)$$\n",
    "\n",
    "단, 위에서 언급한바와 같이 조건에 해당하는 사건들은 MECE 조건을 만족해야 한다.\n",
    "예를 들어 정치적 성향은 1~7 로 구분한 것 처럼 말이다."
   ]
  },
  {
   "cell_type": "code",
   "execution_count": 41,
   "id": "45d5f1bf-6aae-4191-b630-27efe9a33778",
   "metadata": {
    "execution": {
     "iopub.execute_input": "2021-04-16T19:35:09.340326Z",
     "iopub.status.busy": "2021-04-16T19:35:09.339575Z",
     "iopub.status.idle": "2021-04-16T19:35:09.345569Z",
     "shell.execute_reply": "2021-04-16T19:35:09.345920Z"
    }
   },
   "outputs": [
    {
     "data": {
      "text/plain": [
       "1.0     1442\n",
       "2.0     5808\n",
       "3.0     6243\n",
       "4.0    18943\n",
       "5.0     7940\n",
       "6.0     7319\n",
       "7.0     1595\n",
       "Name: polviews, dtype: int64"
      ]
     },
     "execution_count": 41,
     "metadata": {},
     "output_type": "execute_result"
    }
   ],
   "source": [
    "B = gss['polviews']\n",
    "B.value_counts().sort_index()"
   ]
  },
  {
   "cell_type": "markdown",
   "id": "356ff89b-b76f-4d79-8af8-49e2dcdbddc8",
   "metadata": {},
   "source": [
    "중도 성향의 은행원이 응답할 확률은 아래와 같다."
   ]
  },
  {
   "cell_type": "code",
   "execution_count": 42,
   "id": "3c6b993c-3126-48eb-a749-c739ab73d1ac",
   "metadata": {
    "execution": {
     "iopub.execute_input": "2021-04-16T19:35:09.349523Z",
     "iopub.status.busy": "2021-04-16T19:35:09.348794Z",
     "iopub.status.idle": "2021-04-16T19:35:09.354627Z",
     "shell.execute_reply": "2021-04-16T19:35:09.354093Z"
    }
   },
   "outputs": [
    {
     "data": {
      "text/plain": [
       "0.005822682085615744"
      ]
     },
     "execution_count": 42,
     "metadata": {},
     "output_type": "execute_result"
    }
   ],
   "source": [
    "i = 4\n",
    "prob(B==i) * conditional(banker, B==i)"
   ]
  },
  {
   "cell_type": "markdown",
   "id": "ef401c85-9026-46fb-9fe2-88ae02a24d2c",
   "metadata": {},
   "source": [
    "파이썬의 `sum` 함수와 [generator expression](https://www.johndcook.com/blog/2020/01/15/generator-expression/) 을 활용하면 전확률의 법칙을 계산할 수 있다."
   ]
  },
  {
   "cell_type": "code",
   "execution_count": 44,
   "id": "73c3e981-f8b7-4da4-8078-d73ceea6b0b9",
   "metadata": {
    "execution": {
     "iopub.execute_input": "2021-04-16T19:35:09.358978Z",
     "iopub.status.busy": "2021-04-16T19:35:09.358491Z",
     "iopub.status.idle": "2021-04-16T19:35:09.371125Z",
     "shell.execute_reply": "2021-04-16T19:35:09.370597Z"
    }
   },
   "outputs": [
    {
     "data": {
      "text/plain": [
       "0.014769730168391157"
      ]
     },
     "execution_count": 44,
     "metadata": {},
     "output_type": "execute_result"
    }
   ],
   "source": [
    "sum(prob(B==i) * conditional(banker, B==i)\n",
    "    for i in range(1, 8)) # 응답자가 은행원일 확률"
   ]
  },
  {
   "cell_type": "markdown",
   "id": "6673286b-883d-4d52-af8c-0c1ceb199c3e",
   "metadata": {},
   "source": [
    "## Summary\n",
    "\n",
    "이번 Chapter 의 내용을 요약해보면 다음과 같다.\n",
    "\n",
    "**Theorem 1** 논리곱을 사용해 조건부확률을 구하는 방법:\n",
    "\n",
    "$$P(A|B) = \\frac{P(A~\\mathrm{and}~B)}{P(B)}$$\n",
    "\n",
    "**Theorem 2** 조건부확률을 사용해 논리곱을 구하는 방법:\n",
    "\n",
    "$$P(A~\\mathrm{and}~B) = P(B) P(A|B)$$\n",
    "\n",
    "**Theorem 3**, 베이즈 정리라고 하며, $P(A|B)$ 나 $P(A|B)$ 가 주어졌을 때 원래의 확률을 찾는 방법이다:\n",
    "\n",
    "$$P(A|B) = \\frac{P(A) P(B|A)}{P(B)}$$\n",
    "\n",
    "**The Law of Total Probability** 각각의 확률을 더해서 전체확률을 구하는 방법:\n",
    "\n",
    "$$P(A) = \\sum_i P(B_i) P(A|B_i)$$"
   ]
  },
  {
   "cell_type": "markdown",
   "id": "d6a86235-7017-4a6b-8eb3-bfa8b1be8532",
   "metadata": {},
   "source": [
    "## Exercises"
   ]
  },
  {
   "cell_type": "markdown",
   "id": "99e01375-44d9-452f-a727-8f6dcb38321b",
   "metadata": {},
   "source": [
    "**Exercise:** Let's use the tools in this chapter to solve a variation of the Linda problem.\n",
    "\n",
    "> Linda is 31 years old, single, outspoken, and very bright. She majored in philosophy. As a student, she was deeply concerned with issues of discrimination and social justice, and also participated in anti-nuclear demonstrations.  Which is more probable?\n",
    "> 1. Linda is a banker.\n",
    "> 2. Linda is a banker and considers herself a liberal Democrat.\n",
    "\n",
    "To answer this question, compute \n",
    "\n",
    "* The probability that Linda is a female banker,\n",
    "\n",
    "* The probability that Linda is a liberal female banker, and\n",
    "\n",
    "* The probability that Linda is a liberal female banker and a Democrat."
   ]
  },
  {
   "cell_type": "code",
   "execution_count": 47,
   "id": "31225bbd-f67f-44ca-91b6-61fae17e4968",
   "metadata": {
    "execution": {
     "iopub.execute_input": "2021-04-16T19:35:09.375687Z",
     "iopub.status.busy": "2021-04-16T19:35:09.374854Z",
     "iopub.status.idle": "2021-04-16T19:35:09.379273Z",
     "shell.execute_reply": "2021-04-16T19:35:09.378643Z"
    }
   },
   "outputs": [
    {
     "data": {
      "text/plain": [
       "0.011381618989653074"
      ]
     },
     "execution_count": 47,
     "metadata": {},
     "output_type": "execute_result"
    }
   ],
   "source": [
    "# Solution goes here\n",
    "prob(female & banker)"
   ]
  },
  {
   "cell_type": "code",
   "execution_count": 48,
   "id": "2162728f-e650-4281-96b6-de7195394134",
   "metadata": {
    "execution": {
     "iopub.execute_input": "2021-04-16T19:35:09.383986Z",
     "iopub.status.busy": "2021-04-16T19:35:09.383142Z",
     "iopub.status.idle": "2021-04-16T19:35:09.386942Z",
     "shell.execute_reply": "2021-04-16T19:35:09.387425Z"
    }
   },
   "outputs": [
    {
     "data": {
      "text/plain": [
       "0.002556299452221546"
      ]
     },
     "execution_count": 48,
     "metadata": {},
     "output_type": "execute_result"
    }
   ],
   "source": [
    "# Solution goes here\n",
    "prob(female & banker & liberal)"
   ]
  },
  {
   "cell_type": "code",
   "execution_count": 49,
   "id": "2362642e-3609-418c-b3c2-91360e064191",
   "metadata": {
    "execution": {
     "iopub.execute_input": "2021-04-16T19:35:09.391539Z",
     "iopub.status.busy": "2021-04-16T19:35:09.390944Z",
     "iopub.status.idle": "2021-04-16T19:35:09.395260Z",
     "shell.execute_reply": "2021-04-16T19:35:09.395740Z"
    }
   },
   "outputs": [
    {
     "data": {
      "text/plain": [
       "0.0012375735443294787"
      ]
     },
     "execution_count": 49,
     "metadata": {},
     "output_type": "execute_result"
    }
   ],
   "source": [
    "# Solution goes here\n",
    "prob(female & banker & liberal & democrat)"
   ]
  },
  {
   "cell_type": "markdown",
   "id": "97436a89-7e8c-4c6c-8446-3caccc9532c4",
   "metadata": {},
   "source": [
    "**Exercise:** Use `conditional` to compute the following probabilities:\n",
    "\n",
    "* What is the probability that a respondent is liberal, given that they are a Democrat?\n",
    "\n",
    "* What is the probability that a respondent is a Democrat, given that they are liberal?\n",
    "\n",
    "Think carefully about the order of the arguments you pass to `conditional`."
   ]
  },
  {
   "cell_type": "code",
   "execution_count": 51,
   "id": "6023bbec-0a93-4bac-a9d0-3becd75624da",
   "metadata": {
    "execution": {
     "iopub.execute_input": "2021-04-16T19:35:09.399461Z",
     "iopub.status.busy": "2021-04-16T19:35:09.398872Z",
     "iopub.status.idle": "2021-04-16T19:35:09.403442Z",
     "shell.execute_reply": "2021-04-16T19:35:09.403943Z"
    }
   },
   "outputs": [
    {
     "data": {
      "text/plain": [
       "0.3891320002215698"
      ]
     },
     "execution_count": 51,
     "metadata": {},
     "output_type": "execute_result"
    }
   ],
   "source": [
    "# Solution goes here\n",
    "conditional(liberal,given=democrat)"
   ]
  },
  {
   "cell_type": "code",
   "execution_count": 52,
   "id": "a67f2974-53c7-490c-a90e-0e115c6807b1",
   "metadata": {
    "execution": {
     "iopub.execute_input": "2021-04-16T19:35:09.407668Z",
     "iopub.status.busy": "2021-04-16T19:35:09.407123Z",
     "iopub.status.idle": "2021-04-16T19:35:09.411160Z",
     "shell.execute_reply": "2021-04-16T19:35:09.411604Z"
    }
   },
   "outputs": [
    {
     "data": {
      "text/plain": [
       "0.5206403320240125"
      ]
     },
     "execution_count": 52,
     "metadata": {},
     "output_type": "execute_result"
    }
   ],
   "source": [
    "# Solution goes here\n",
    "conditional(democrat,given=liberal)"
   ]
  },
  {
   "cell_type": "markdown",
   "id": "58482190-e266-4ef5-af33-34969786d1ad",
   "metadata": {},
   "source": [
    "**Exercise:** There's a [famous quote](https://quoteinvestigator.com/2014/02/24/heart-head/) about young people, old people, liberals, and conservatives that goes something like:\n",
    "\n",
    "> If you are not a liberal at 25, you have no heart. If you are not a conservative at 35, you have no brain.\n",
    "\n",
    "Whether you agree with this proposition or not, it suggests some probabilities we can compute as an exercise.\n",
    "Rather than use the specific ages 25 and 35, let's define `young` and `old` as under 30 or over 65:"
   ]
  },
  {
   "cell_type": "code",
   "execution_count": 53,
   "id": "68996187-bff3-4f59-8d0b-485e4e4248a7",
   "metadata": {
    "execution": {
     "iopub.execute_input": "2021-04-16T19:35:09.415701Z",
     "iopub.status.busy": "2021-04-16T19:35:09.415139Z",
     "iopub.status.idle": "2021-04-16T19:35:09.418451Z",
     "shell.execute_reply": "2021-04-16T19:35:09.418810Z"
    }
   },
   "outputs": [
    {
     "data": {
      "text/plain": [
       "0.19435991073240008"
      ]
     },
     "execution_count": 53,
     "metadata": {},
     "output_type": "execute_result"
    }
   ],
   "source": [
    "young = (gss['age'] < 30)\n",
    "prob(young)"
   ]
  },
  {
   "cell_type": "code",
   "execution_count": 54,
   "id": "38c21546-6d17-443c-91eb-6e47f48bf9b6",
   "metadata": {
    "execution": {
     "iopub.execute_input": "2021-04-16T19:35:09.423028Z",
     "iopub.status.busy": "2021-04-16T19:35:09.422417Z",
     "iopub.status.idle": "2021-04-16T19:35:09.425586Z",
     "shell.execute_reply": "2021-04-16T19:35:09.425960Z"
    }
   },
   "outputs": [
    {
     "data": {
      "text/plain": [
       "0.17328058429701765"
      ]
     },
     "execution_count": 54,
     "metadata": {},
     "output_type": "execute_result"
    }
   ],
   "source": [
    "old = (gss['age'] >= 65)\n",
    "prob(old)"
   ]
  },
  {
   "cell_type": "markdown",
   "id": "cb419084-dbc5-4374-9b6c-48b142044401",
   "metadata": {},
   "source": [
    "For these thresholds, I chose round numbers near the 20th and 80th percentiles.  Depending on your age, you may or may not agree with these definitions of \"young\" and \"old\".\n",
    "\n",
    "I'll define `conservative` as someone whose political views are \"Conservative\", \"Slightly Conservative\", or \"Extremely Conservative\"."
   ]
  },
  {
   "cell_type": "code",
   "execution_count": 55,
   "id": "702d6288-6b1e-426e-bde8-9ba88961dcca",
   "metadata": {
    "execution": {
     "iopub.execute_input": "2021-04-16T19:35:09.429448Z",
     "iopub.status.busy": "2021-04-16T19:35:09.428975Z",
     "iopub.status.idle": "2021-04-16T19:35:09.432387Z",
     "shell.execute_reply": "2021-04-16T19:35:09.432875Z"
    }
   },
   "outputs": [
    {
     "data": {
      "text/plain": [
       "0.3419354838709677"
      ]
     },
     "execution_count": 55,
     "metadata": {},
     "output_type": "execute_result"
    }
   ],
   "source": [
    "conservative = (gss['polviews'] >= 5)\n",
    "prob(conservative)"
   ]
  },
  {
   "cell_type": "markdown",
   "id": "b9163c4a-b250-47a2-b989-f7165eb7baed",
   "metadata": {},
   "source": [
    "Use `prob` and `conditional` to compute the following probabilities.\n",
    "\n",
    "* What is the probability that a randomly chosen respondent is a young liberal?\n",
    "\n",
    "* What is the probability that a young person is liberal?\n",
    "\n",
    "* What fraction of respondents are old conservatives?\n",
    "\n",
    "* What fraction of conservatives are old?\n",
    "\n",
    "For each statement, think about whether it is expressing a conjunction, a conditional probability, or both.\n",
    "\n",
    "For the conditional probabilities, be careful about the order of the arguments.\n",
    "If your answer to the last question is greater than 30%, you have it backwards!"
   ]
  },
  {
   "cell_type": "code",
   "execution_count": 56,
   "id": "b7ee1361-5c42-428a-90b0-3fea15ef3960",
   "metadata": {
    "execution": {
     "iopub.execute_input": "2021-04-16T19:35:09.436838Z",
     "iopub.status.busy": "2021-04-16T19:35:09.436245Z",
     "iopub.status.idle": "2021-04-16T19:35:09.439984Z",
     "shell.execute_reply": "2021-04-16T19:35:09.440468Z"
    }
   },
   "outputs": [
    {
     "data": {
      "text/plain": [
       "0.06579427875836884"
      ]
     },
     "execution_count": 56,
     "metadata": {},
     "output_type": "execute_result"
    }
   ],
   "source": [
    "# Solution goes here\n",
    "prob(young&liberal)"
   ]
  },
  {
   "cell_type": "code",
   "execution_count": 57,
   "id": "405590f5-e536-4acd-b325-a46a0c536c91",
   "metadata": {
    "execution": {
     "iopub.execute_input": "2021-04-16T19:35:09.443827Z",
     "iopub.status.busy": "2021-04-16T19:35:09.443300Z",
     "iopub.status.idle": "2021-04-16T19:35:09.447774Z",
     "shell.execute_reply": "2021-04-16T19:35:09.447317Z"
    }
   },
   "outputs": [
    {
     "data": {
      "text/plain": [
       "0.338517745302714"
      ]
     },
     "execution_count": 57,
     "metadata": {},
     "output_type": "execute_result"
    }
   ],
   "source": [
    "# Solution goes here\n",
    "conditional(liberal, given=young)"
   ]
  },
  {
   "cell_type": "code",
   "execution_count": 58,
   "id": "021a61e8-5970-4187-891d-03b2062b4f8d",
   "metadata": {
    "execution": {
     "iopub.execute_input": "2021-04-16T19:35:09.451326Z",
     "iopub.status.busy": "2021-04-16T19:35:09.450505Z",
     "iopub.status.idle": "2021-04-16T19:35:09.455557Z",
     "shell.execute_reply": "2021-04-16T19:35:09.455085Z"
    }
   },
   "outputs": [
    {
     "data": {
      "text/plain": [
       "0.06701156421180766"
      ]
     },
     "execution_count": 58,
     "metadata": {},
     "output_type": "execute_result"
    }
   ],
   "source": [
    "# Solution goes here\n",
    "prob(old&conservative)"
   ]
  },
  {
   "cell_type": "code",
   "execution_count": 59,
   "id": "e6b47b6c-8303-4b3d-b42f-e5872711f2db",
   "metadata": {
    "execution": {
     "iopub.execute_input": "2021-04-16T19:35:09.458973Z",
     "iopub.status.busy": "2021-04-16T19:35:09.458445Z",
     "iopub.status.idle": "2021-04-16T19:35:09.462616Z",
     "shell.execute_reply": "2021-04-16T19:35:09.463061Z"
    }
   },
   "outputs": [
    {
     "data": {
      "text/plain": [
       "0.19597721609113564"
      ]
     },
     "execution_count": 59,
     "metadata": {},
     "output_type": "execute_result"
    }
   ],
   "source": [
    "# Solution goes here\n",
    "conditional(old, given=conservative)"
   ]
  },
  {
   "cell_type": "markdown",
   "id": "65bfbb7c-2058-4144-bc94-0855f901d5ba",
   "metadata": {},
   "source": []
  }
 ],
 "metadata": {
  "kernelspec": {
   "display_name": "Python 3 (ipykernel)",
   "language": "python",
   "name": "python3"
  },
  "language_info": {
   "codemirror_mode": {
    "name": "ipython",
    "version": 3
   },
   "file_extension": ".py",
   "mimetype": "text/x-python",
   "name": "python",
   "nbconvert_exporter": "python",
   "pygments_lexer": "ipython3",
   "version": "3.10.10"
  },
  "vscode": {
   "interpreter": {
    "hash": "bd385fe162c5ca0c84973b7dd5c518456272446b2b64e67c2a69f949ca7a1754"
   }
  }
 },
 "nbformat": 4,
 "nbformat_minor": 5
}
