{
 "cells": [
  {
   "cell_type": "markdown",
   "id": "b8ded54d-8d58-41a8-b742-115f499e6380",
   "metadata": {
    "tags": []
   },
   "source": [
    "# Probability"
   ]
  },
  {
   "cell_type": "markdown",
   "id": "0d5031fc-4026-4a8c-aa58-52b50686bd43",
   "metadata": {},
   "source": [
    "* 베이지안 통계의 기본은 베이즈 이론이고, 베이즈 이론의 기본은 조건부 확률이다. \n",
    "* 베이즈 이론을 사용해 조건부확률과 관련된 문제를 다뤄보고 베이즈 이론을 베이지안 통계로 전환하는 내용은 추후에 다루기로 한다."
   ]
  },
  {
   "cell_type": "markdown",
   "id": "399e9ec2-515c-437d-adb4-aba06724f641",
   "metadata": {},
   "source": [
    "## Linda the Banker\n",
    "\n",
    "To introduce conditional probability, I'll use an example from a [famous experiment by Tversky and Kahneman](https://en.wikipedia.org/wiki/Conjunction_fallacy), who posed the following question:\n",
    "* 아래의 질문에 답한다면? (린다를 설명하는 문장 중 더 가능성 있는 말은?)\n",
    "\n",
    "> Linda is 31 years old, single, outspoken, and very bright. She majored in philosophy. As a student, she was deeply concerned with issues of discrimination and social justice, and also participated in anti-nuclear demonstrations.  Which is more probable?\n",
    "> 1. Linda is a bank teller.\n",
    "> 2. Linda is a bank teller and is active in the feminist movement.\n",
    "\n",
    "* 대부분의 사람들은 두 번째를 답으로 선택하지만, 두 번째 답이 질문에서 요구하는 것처럼 더 가능성이 있을 수는 없다.\n"
   ]
  },
  {
   "cell_type": "markdown",
   "id": "5fff731c-ac18-48dd-8504-3e90e92b8b97",
   "metadata": {},
   "source": [
    "If you were inclined to choose the second option, you are in good company.  The biologist [Stephen J. Gould wrote](https://doi.org/10.1080/09332480.1989.10554932) :\n",
    "\n",
    "> I am particularly fond of this example because I know that the [second] statement is least probable, yet a little [homunculus](https://en.wikipedia.org/wiki/Homunculus_argument) in my head continues to jump up and down, shouting at me, \"but she can't just be a bank teller; read the description.\"\n",
    "\n",
    "If the little person in your head is still unhappy, maybe this chapter will help."
   ]
  },
  {
   "cell_type": "markdown",
   "id": "70176be0-2cd3-482c-90d1-9e5e57f01812",
   "metadata": {},
   "source": [
    "## Probability\n",
    "\n",
    "At this point I should provide a definition of \"probability\", but that [turns out to be surprisingly difficult](https://en.wikipedia.org/wiki/Probability_interpretations).  To avoid getting stuck before we start, we will use a simple definition for now and refine it later: A **probability** is a fraction of a finite set.\n",
    "\n",
    "For example, if we survey 1000 people, and 20 of them are bank tellers, the fraction that work as bank tellers is 0.02 or 2\\%.  If we choose a person from this population at random, the probability that they are a bank teller is 2\\%.\n",
    "By \"at random\" I mean that every person in the dataset has the same chance of being chosen.\n",
    "\n",
    "With this definition and an appropriate dataset, we can compute probabilities by counting.\n",
    "To demonstrate, I'll use data from the [General Social Survey](http://gss.norc.org/) (GSS).  "
   ]
  },
  {
   "cell_type": "markdown",
   "id": "702a2210-11b5-443b-8e77-ec921d422aff",
   "metadata": {
    "tags": []
   },
   "source": [
    "The following cell downloads the data."
   ]
  },
  {
   "cell_type": "code",
   "execution_count": 1,
   "id": "f1852e3a-bf87-4597-8fcd-0f5cfb34bd1a",
   "metadata": {
    "execution": {
     "iopub.execute_input": "2021-04-16T19:35:08.628591Z",
     "iopub.status.busy": "2021-04-16T19:35:08.627766Z",
     "iopub.status.idle": "2021-04-16T19:35:08.630508Z",
     "shell.execute_reply": "2021-04-16T19:35:08.629988Z"
    },
    "tags": []
   },
   "outputs": [],
   "source": [
    "# Load the data file\n",
    "\n",
    "from os.path import basename, exists\n",
    "\n",
    "def download(url):\n",
    "    filename = basename(url)\n",
    "    if not exists(filename):\n",
    "        from urllib.request import urlretrieve\n",
    "        local, _ = urlretrieve(url, filename)\n",
    "        print('Downloaded ' + local)\n",
    "    \n",
    "download('https://github.com/AllenDowney/ThinkBayes2/raw/master/data/gss_bayes.csv')"
   ]
  },
  {
   "cell_type": "markdown",
   "id": "5b17f3d2-555b-4dbd-9745-4e81b3353fa2",
   "metadata": {},
   "source": [
    "I'll use Pandas to read the data and store it in a `DataFrame`."
   ]
  },
  {
   "cell_type": "code",
   "execution_count": 2,
   "id": "ddf45834-f194-4172-bd9a-956883649d65",
   "metadata": {
    "execution": {
     "iopub.execute_input": "2021-04-16T19:35:08.634488Z",
     "iopub.status.busy": "2021-04-16T19:35:08.633720Z",
     "iopub.status.idle": "2021-04-16T19:35:09.081049Z",
     "shell.execute_reply": "2021-04-16T19:35:09.081454Z"
    }
   },
   "outputs": [],
   "source": [
    "import pandas as pd\n",
    "\n",
    "gss = pd.read_csv('gss_bayes.csv', index_col=0)\n",
    "gss.head()"
   ]
  },
  {
   "cell_type": "markdown",
   "id": "5e3b352e-a408-4b37-a10d-034f54d61167",
   "metadata": {},
   "source": [
    "The `DataFrame` has one row for each person surveyed and one column for each variable I selected.\n",
    "\n",
    "The columns are\n",
    "\n",
    "* `caseid`: Respondent id (which is the index of the table).\n",
    "\n",
    "* `year`: Year when the respondent was surveyed.\n",
    "\n",
    "* `age`: Respondent's age when surveyed.\n",
    "\n",
    "* `sex`: Male or female.\n",
    "\n",
    "* `polviews`: Political views on a range from liberal to conservative.\n",
    "\n",
    "* `partyid`: Political party affiliation, Democrat, Independent, or Republican.\n",
    "\n",
    "* `indus10`: [Code](https://www.census.gov/cgi-bin/sssd/naics/naicsrch?chart=2007) for the industry the respondent works in.\n",
    "\n",
    "Let's look at these variables in more detail, starting with `indus10`."
   ]
  },
  {
   "cell_type": "markdown",
   "id": "1b3b8118-a9fc-40d7-a633-6b6399313a4e",
   "metadata": {},
   "source": [
    "## Fraction of Bankers\n",
    "\n",
    "The code for \"Banking and related activities\" is 6870, so we can select bankers like this:"
   ]
  },
  {
   "cell_type": "code",
   "execution_count": 3,
   "id": "a1351bee-d366-44b3-8a33-d74bf721106e",
   "metadata": {
    "execution": {
     "iopub.execute_input": "2021-04-16T19:35:09.085579Z",
     "iopub.status.busy": "2021-04-16T19:35:09.084990Z",
     "iopub.status.idle": "2021-04-16T19:35:09.096470Z",
     "shell.execute_reply": "2021-04-16T19:35:09.095986Z"
    }
   },
   "outputs": [],
   "source": [
    "banker = (gss['indus10'] == 6870)\n",
    "banker.head()"
   ]
  },
  {
   "cell_type": "markdown",
   "id": "dd0c6d3e-6223-4ed5-9e01-4cb4d1162800",
   "metadata": {},
   "source": [
    "The result is a Pandas `Series` that contains the Boolean values `True` and `False`.\n",
    "\n",
    "If we use the `sum` function on this `Series`, it treats `True` as 1 and `False` as 0, so the total is the number of bankers."
   ]
  },
  {
   "cell_type": "code",
   "execution_count": 4,
   "id": "ba4c710b-7f5a-4002-b7b2-9e7739aa64ac",
   "metadata": {
    "execution": {
     "iopub.execute_input": "2021-04-16T19:35:09.100573Z",
     "iopub.status.busy": "2021-04-16T19:35:09.100000Z",
     "iopub.status.idle": "2021-04-16T19:35:09.103808Z",
     "shell.execute_reply": "2021-04-16T19:35:09.103159Z"
    }
   },
   "outputs": [],
   "source": [
    "banker.sum()"
   ]
  },
  {
   "cell_type": "markdown",
   "id": "4a8aba2b-86c3-4274-87cf-f6a7f87d20bd",
   "metadata": {},
   "source": [
    "In this dataset, there are 728 bankers.\n",
    "\n",
    "To compute the *fraction* of bankers, we can use the `mean` function, which computes the fraction of `True` values in the `Series`:"
   ]
  },
  {
   "cell_type": "code",
   "execution_count": 5,
   "id": "caa67829-24da-4465-a368-f647c2fa83b2",
   "metadata": {
    "execution": {
     "iopub.execute_input": "2021-04-16T19:35:09.108607Z",
     "iopub.status.busy": "2021-04-16T19:35:09.107935Z",
     "iopub.status.idle": "2021-04-16T19:35:09.110861Z",
     "shell.execute_reply": "2021-04-16T19:35:09.111310Z"
    }
   },
   "outputs": [],
   "source": [
    "banker.mean()"
   ]
  },
  {
   "cell_type": "markdown",
   "id": "922f5fa4-6ac5-4a2d-9051-62a066c8af52",
   "metadata": {},
   "source": [
    "About 1.5% of the respondents work in banking, so if we choose a random person from the dataset, the probability they are a banker is about 1.5%."
   ]
  },
  {
   "cell_type": "markdown",
   "id": "c5c187b1-c1b9-4f1c-9361-b76c8deadf87",
   "metadata": {},
   "source": [
    "## The Probability Function\n",
    "\n",
    "I'll put the code from the previous section in a function that takes a Boolean series and returns a probability:"
   ]
  },
  {
   "cell_type": "code",
   "execution_count": 6,
   "id": "c5112039-3fd9-4fd6-864c-d2c6f99d7e7f",
   "metadata": {
    "execution": {
     "iopub.execute_input": "2021-04-16T19:35:09.115436Z",
     "iopub.status.busy": "2021-04-16T19:35:09.114857Z",
     "iopub.status.idle": "2021-04-16T19:35:09.116926Z",
     "shell.execute_reply": "2021-04-16T19:35:09.117430Z"
    }
   },
   "outputs": [],
   "source": [
    "def prob(A):\n",
    "    \"\"\"Computes the probability of a proposition, A.\"\"\"    \n",
    "    return A.mean()"
   ]
  },
  {
   "cell_type": "markdown",
   "id": "4d6c7a5a-07c0-478e-a930-bc2fe7ad6b92",
   "metadata": {},
   "source": [
    "So we can compute the fraction of bankers like this:"
   ]
  },
  {
   "cell_type": "code",
   "execution_count": 7,
   "id": "d0022a16-1e77-47b8-b53f-2db03a8e0a45",
   "metadata": {
    "execution": {
     "iopub.execute_input": "2021-04-16T19:35:09.121943Z",
     "iopub.status.busy": "2021-04-16T19:35:09.121067Z",
     "iopub.status.idle": "2021-04-16T19:35:09.124766Z",
     "shell.execute_reply": "2021-04-16T19:35:09.125312Z"
    }
   },
   "outputs": [],
   "source": [
    "prob(banker)"
   ]
  },
  {
   "cell_type": "markdown",
   "id": "b650d2e1-7578-4936-a39a-892ceb2ee1a6",
   "metadata": {},
   "source": [
    "Now let's look at another variable in this dataset.\n",
    "The values of the column `sex` are encoded like this:\n",
    "\n",
    "```\n",
    "1    Male\n",
    "2    Female\n",
    "```\n",
    "\n",
    "So we can make a Boolean series that is `True` for female respondents and `False` otherwise."
   ]
  },
  {
   "cell_type": "code",
   "execution_count": 8,
   "id": "50f6099d-2dac-4dc0-932a-c97c18046c40",
   "metadata": {
    "execution": {
     "iopub.execute_input": "2021-04-16T19:35:09.133453Z",
     "iopub.status.busy": "2021-04-16T19:35:09.132833Z",
     "iopub.status.idle": "2021-04-16T19:35:09.135227Z",
     "shell.execute_reply": "2021-04-16T19:35:09.134787Z"
    }
   },
   "outputs": [],
   "source": [
    "female = (gss['sex'] == 2)"
   ]
  },
  {
   "cell_type": "markdown",
   "id": "b2ba4a51-507f-4253-8f68-17a05c964190",
   "metadata": {},
   "source": [
    "And use it to compute the fraction of respondents who are women."
   ]
  },
  {
   "cell_type": "code",
   "execution_count": 9,
   "id": "6f402fc2-4bd9-4bd9-98b3-8dc334029791",
   "metadata": {
    "execution": {
     "iopub.execute_input": "2021-04-16T19:35:09.138777Z",
     "iopub.status.busy": "2021-04-16T19:35:09.138234Z",
     "iopub.status.idle": "2021-04-16T19:35:09.140987Z",
     "shell.execute_reply": "2021-04-16T19:35:09.140543Z"
    }
   },
   "outputs": [],
   "source": [
    "prob(female)"
   ]
  },
  {
   "cell_type": "markdown",
   "id": "b36541d9-152a-465c-85a3-9097be7d109c",
   "metadata": {},
   "source": [
    "The fraction of women in this dataset is higher than in the adult U.S. population because [the GSS does not include people living in institutions](https://gss.norc.org/faq) like prisons and military housing, and those populations are more likely to be male."
   ]
  },
  {
   "cell_type": "markdown",
   "id": "d09e16f6-d4c7-4441-822c-40e489ba6f12",
   "metadata": {},
   "source": [
    "## Political Views and Parties\n",
    "\n",
    "The other variables we'll consider are `polviews`, which describes the political views of the respondents, and `partyid`, which describes their affiliation with a political party.\n",
    "\n",
    "The values of `polviews` are on a seven-point scale:\n",
    "\n",
    "```\n",
    "1\tExtremely liberal\n",
    "2\tLiberal\n",
    "3\tSlightly liberal\n",
    "4\tModerate\n",
    "5\tSlightly conservative\n",
    "6\tConservative\n",
    "7\tExtremely conservative\n",
    "```\n",
    "\n",
    "I'll define `liberal` to be `True` for anyone whose response is \"Extremely liberal\", \"Liberal\", or \"Slightly liberal\"."
   ]
  },
  {
   "cell_type": "code",
   "execution_count": 10,
   "id": "6b00f850-28cd-4625-a8ef-a7e1e1c7f95c",
   "metadata": {
    "execution": {
     "iopub.execute_input": "2021-04-16T19:35:09.144820Z",
     "iopub.status.busy": "2021-04-16T19:35:09.144315Z",
     "iopub.status.idle": "2021-04-16T19:35:09.146158Z",
     "shell.execute_reply": "2021-04-16T19:35:09.146493Z"
    }
   },
   "outputs": [],
   "source": [
    "liberal = (gss['polviews'] <= 3)"
   ]
  },
  {
   "cell_type": "markdown",
   "id": "c3d16819-dbaa-43c4-8ef2-9e7cb73746e8",
   "metadata": {},
   "source": [
    "Here's the fraction of respondents who are liberal by this definition."
   ]
  },
  {
   "cell_type": "code",
   "execution_count": 11,
   "id": "ff0f7d9c-ba35-49ac-9fad-f09d4f611a24",
   "metadata": {
    "execution": {
     "iopub.execute_input": "2021-04-16T19:35:09.150191Z",
     "iopub.status.busy": "2021-04-16T19:35:09.149628Z",
     "iopub.status.idle": "2021-04-16T19:35:09.152382Z",
     "shell.execute_reply": "2021-04-16T19:35:09.152013Z"
    }
   },
   "outputs": [],
   "source": [
    "prob(liberal)"
   ]
  },
  {
   "cell_type": "markdown",
   "id": "8157927e-4a88-4e25-8c3b-309418813890",
   "metadata": {},
   "source": [
    "If we choose a random person in this dataset, the probability they are liberal is about 27%."
   ]
  },
  {
   "cell_type": "markdown",
   "id": "9f77e8e3-2645-4b27-b886-cbb93d8f1d97",
   "metadata": {},
   "source": [
    "The values of `partyid` are encoded like this:\n",
    "\n",
    "```\n",
    "0\tStrong democrat\n",
    "1\tNot strong democrat\n",
    "2\tIndependent, near democrat\n",
    "3\tIndependent\n",
    "4\tIndependent, near republican\n",
    "5\tNot strong republican\n",
    "6\tStrong republican\n",
    "7\tOther party\n",
    "```\n",
    "\n",
    "I'll define `democrat` to include respondents who chose \"Strong democrat\" or \"Not strong democrat\":"
   ]
  },
  {
   "cell_type": "code",
   "execution_count": 12,
   "id": "54df339c-14cd-4e93-a495-60460dead45b",
   "metadata": {
    "execution": {
     "iopub.execute_input": "2021-04-16T19:35:09.156357Z",
     "iopub.status.busy": "2021-04-16T19:35:09.155780Z",
     "iopub.status.idle": "2021-04-16T19:35:09.158246Z",
     "shell.execute_reply": "2021-04-16T19:35:09.157752Z"
    }
   },
   "outputs": [],
   "source": [
    "democrat = (gss['partyid'] <= 1)"
   ]
  },
  {
   "cell_type": "markdown",
   "id": "9fa1b033-fd25-4f1e-9e6e-524cebb7f849",
   "metadata": {},
   "source": [
    "And here's the fraction of respondents who are Democrats, by this definition."
   ]
  },
  {
   "cell_type": "code",
   "execution_count": 13,
   "id": "1322790f-16fd-4f55-aa98-fc4deb4a0178",
   "metadata": {
    "execution": {
     "iopub.execute_input": "2021-04-16T19:35:09.162885Z",
     "iopub.status.busy": "2021-04-16T19:35:09.162111Z",
     "iopub.status.idle": "2021-04-16T19:35:09.164826Z",
     "shell.execute_reply": "2021-04-16T19:35:09.165317Z"
    }
   },
   "outputs": [],
   "source": [
    "prob(democrat)"
   ]
  },
  {
   "cell_type": "markdown",
   "id": "3e843b0c-854a-4990-a998-7ff94b4c5526",
   "metadata": {},
   "source": [
    "## Conjunction\n",
    "\n",
    "Now that we have a definition of probability and a function that computes it, let's move on to conjunction.\n",
    "\n",
    "\"Conjunction\" is another name for the logical `and` operation.  If you have two [propositions](https://en.wikipedia.org/wiki/Proposition), `A` and `B`, the conjunction `A and B` is `True` if both `A` and `B` are `True`, and `False` otherwise.\n",
    "\n",
    "If we have two Boolean series, we can use the `&` operator to compute their conjunction.\n",
    "For example, we have already computed the probability that a respondent is a banker."
   ]
  },
  {
   "cell_type": "code",
   "execution_count": 14,
   "id": "4f648800-48ae-48b9-a2b9-1af0778ab7c3",
   "metadata": {
    "execution": {
     "iopub.execute_input": "2021-04-16T19:35:09.169647Z",
     "iopub.status.busy": "2021-04-16T19:35:09.168929Z",
     "iopub.status.idle": "2021-04-16T19:35:09.171685Z",
     "shell.execute_reply": "2021-04-16T19:35:09.171252Z"
    }
   },
   "outputs": [],
   "source": [
    "prob(banker)"
   ]
  },
  {
   "cell_type": "markdown",
   "id": "ad64e5fd-100b-42e0-8192-44c15ade504d",
   "metadata": {},
   "source": [
    "And the probability that they are a Democrat:"
   ]
  },
  {
   "cell_type": "code",
   "execution_count": 15,
   "id": "ec7ae003-d413-40b6-8672-eadfaac53eaa",
   "metadata": {
    "execution": {
     "iopub.execute_input": "2021-04-16T19:35:09.175131Z",
     "iopub.status.busy": "2021-04-16T19:35:09.174679Z",
     "iopub.status.idle": "2021-04-16T19:35:09.176933Z",
     "shell.execute_reply": "2021-04-16T19:35:09.177292Z"
    }
   },
   "outputs": [],
   "source": [
    "prob(democrat)"
   ]
  },
  {
   "cell_type": "markdown",
   "id": "d8755586-25b9-479e-bc3a-2b9f243bfb5b",
   "metadata": {},
   "source": [
    "Now we can compute the probability that a respondent is a banker *and* a Democrat:"
   ]
  },
  {
   "cell_type": "code",
   "execution_count": 16,
   "id": "38bfb173-d14a-4019-a9e1-e8543acd9928",
   "metadata": {
    "execution": {
     "iopub.execute_input": "2021-04-16T19:35:09.180713Z",
     "iopub.status.busy": "2021-04-16T19:35:09.180011Z",
     "iopub.status.idle": "2021-04-16T19:35:09.183970Z",
     "shell.execute_reply": "2021-04-16T19:35:09.183516Z"
    }
   },
   "outputs": [],
   "source": [
    "prob(banker & democrat)"
   ]
  },
  {
   "cell_type": "markdown",
   "id": "8da0de75-06c0-4d59-93fc-c1fd1c9377bb",
   "metadata": {},
   "source": [
    "As we should expect, `prob(banker & democrat)` is less than `prob(banker)`, because not all bankers are Democrats.\n",
    "\n",
    "We expect conjunction to be commutative; that is, `A & B` should be the same as `B & A`.  To check, we can also compute `prob(democrat & banker)`:"
   ]
  },
  {
   "cell_type": "code",
   "execution_count": 17,
   "id": "d1b0cf7e-ec57-4708-a2d2-9e9bd0216ce4",
   "metadata": {
    "execution": {
     "iopub.execute_input": "2021-04-16T19:35:09.187308Z",
     "iopub.status.busy": "2021-04-16T19:35:09.186747Z",
     "iopub.status.idle": "2021-04-16T19:35:09.189804Z",
     "shell.execute_reply": "2021-04-16T19:35:09.190185Z"
    }
   },
   "outputs": [],
   "source": [
    "prob(democrat & banker)"
   ]
  },
  {
   "cell_type": "markdown",
   "id": "f10a8af9-a44a-4e65-a7fa-70fa86dbed18",
   "metadata": {},
   "source": [
    "As expected, they are the same."
   ]
  },
  {
   "cell_type": "markdown",
   "id": "8c7b76a9-31d0-41f4-93e6-9f904de4edbe",
   "metadata": {},
   "source": [
    "## Conditional Probability\n",
    "\n",
    "Conditional probability is a probability that depends on a condition, but that might not be the most helpful definition.  Here are some examples:\n",
    "\n",
    "* What is the probability that a respondent is a Democrat, given that they are liberal?\n",
    "\n",
    "* What is the probability that a respondent is female, given that they are a banker?\n",
    "\n",
    "* What is the probability that a respondent is liberal, given that they are female?\n",
    "\n",
    "Let's start with the first one, which we can interpret like this: \"Of all the respondents who are liberal, what fraction are Democrats?\"\n",
    "\n",
    "We can compute this probability in two steps:\n",
    "\n",
    "1. Select all respondents who are liberal.\n",
    "\n",
    "2. Compute the fraction of the selected respondents who are Democrats.\n",
    "\n",
    "To select liberal respondents, we can use the bracket operator, `[]`, like this:"
   ]
  },
  {
   "cell_type": "code",
   "execution_count": 18,
   "id": "dc7c4b02-7601-408e-ab66-0a471326d78f",
   "metadata": {
    "execution": {
     "iopub.execute_input": "2021-04-16T19:35:09.193582Z",
     "iopub.status.busy": "2021-04-16T19:35:09.192986Z",
     "iopub.status.idle": "2021-04-16T19:35:09.196312Z",
     "shell.execute_reply": "2021-04-16T19:35:09.195843Z"
    }
   },
   "outputs": [],
   "source": [
    "selected = democrat[liberal]"
   ]
  },
  {
   "cell_type": "markdown",
   "id": "5fd6c52b-cec6-4528-a260-f91da1879aea",
   "metadata": {},
   "source": [
    "`selected` contains the values of `democrat` for liberal respondents, so `prob(selected)` is the fraction of liberals who are Democrats:"
   ]
  },
  {
   "cell_type": "code",
   "execution_count": 19,
   "id": "338d0faf-e256-47b5-93b0-6cf9d1c3c328",
   "metadata": {
    "execution": {
     "iopub.execute_input": "2021-04-16T19:35:09.200734Z",
     "iopub.status.busy": "2021-04-16T19:35:09.199974Z",
     "iopub.status.idle": "2021-04-16T19:35:09.202760Z",
     "shell.execute_reply": "2021-04-16T19:35:09.203214Z"
    }
   },
   "outputs": [],
   "source": [
    "prob(selected)"
   ]
  },
  {
   "cell_type": "markdown",
   "id": "4a120007-3477-463a-adf4-cf72b19819ac",
   "metadata": {},
   "source": [
    "A little more than half of liberals are Democrats.  If that result is lower than you expected, keep in mind:\n",
    "\n",
    "1. We used a somewhat strict definition of \"Democrat\", excluding Independents who \"lean\" democratic.\n",
    "\n",
    "2. The dataset includes respondents as far back as 1974; in the early part of this interval, there was less alignment between political views and party affiliation, compared to the present.\n",
    "\n",
    "Let's try the second example, \"What is the probability that a respondent is female, given that they are a banker?\"\n",
    "We can interpret that to mean, \"Of all respondents who are bankers, what fraction are female?\"\n",
    "\n",
    "Again, we'll use the bracket operator to select only the bankers and `prob` to compute the fraction that are female."
   ]
  },
  {
   "cell_type": "code",
   "execution_count": 20,
   "id": "90b1f9e6-dce4-4d7b-ac5e-82add69f4ee0",
   "metadata": {
    "execution": {
     "iopub.execute_input": "2021-04-16T19:35:09.206724Z",
     "iopub.status.busy": "2021-04-16T19:35:09.206015Z",
     "iopub.status.idle": "2021-04-16T19:35:09.209768Z",
     "shell.execute_reply": "2021-04-16T19:35:09.210120Z"
    }
   },
   "outputs": [],
   "source": [
    "selected = female[banker]\n",
    "prob(selected)"
   ]
  },
  {
   "cell_type": "markdown",
   "id": "cc3213e0-3f09-4a7e-bedd-2d343f3b1aab",
   "metadata": {},
   "source": [
    "About 77% of the bankers in this dataset are female.\n",
    "\n",
    "Let's wrap this computation in a function.\n",
    "I'll define `conditional` to take two Boolean series, `proposition` and `given`, and compute the conditional probability of `proposition` conditioned on `given`:"
   ]
  },
  {
   "cell_type": "code",
   "execution_count": 21,
   "id": "37395ef5-65f1-40e0-8d28-c445543d9e68",
   "metadata": {
    "execution": {
     "iopub.execute_input": "2021-04-16T19:35:09.213058Z",
     "iopub.status.busy": "2021-04-16T19:35:09.212636Z",
     "iopub.status.idle": "2021-04-16T19:35:09.214860Z",
     "shell.execute_reply": "2021-04-16T19:35:09.214485Z"
    }
   },
   "outputs": [],
   "source": [
    "def conditional(proposition, given):\n",
    "    \"\"\"Probability of A conditioned on given.\"\"\"\n",
    "    return prob(proposition[given])"
   ]
  },
  {
   "cell_type": "markdown",
   "id": "bcb026a0-39ce-4b4f-ba27-8cc3802c2c55",
   "metadata": {},
   "source": [
    "We can use `conditional` to compute the probability that a respondent is liberal given that they are female."
   ]
  },
  {
   "cell_type": "code",
   "execution_count": 22,
   "id": "4061234b-a518-4059-ad61-3a9753b06116",
   "metadata": {
    "execution": {
     "iopub.execute_input": "2021-04-16T19:35:09.218614Z",
     "iopub.status.busy": "2021-04-16T19:35:09.218019Z",
     "iopub.status.idle": "2021-04-16T19:35:09.222351Z",
     "shell.execute_reply": "2021-04-16T19:35:09.221981Z"
    }
   },
   "outputs": [],
   "source": [
    "conditional(liberal, given=female)"
   ]
  },
  {
   "cell_type": "markdown",
   "id": "3add75ee-dfa3-43b7-b508-1c05490a16f4",
   "metadata": {},
   "source": [
    "About 28% of female respondents are liberal.\n",
    "\n",
    "I included the keyword, `given`, along with the parameter, `female`, to make this expression more readable."
   ]
  },
  {
   "cell_type": "markdown",
   "id": "6405e7d0-a543-486b-b5bc-ee5500efcee1",
   "metadata": {},
   "source": [
    "## Conditional Probability Is Not Commutative\n",
    "\n",
    "We have seen that conjunction is commutative; that is, `prob(A & B)` is always equal to `prob(B & A)`.\n",
    "\n",
    "But conditional probability is *not* commutative; that is, `conditional(A, B)` is not the same as `conditional(B, A)`.\n",
    "\n",
    "That should be clear if we look at an example.  Previously, we computed the probability a respondent is female, given that they are banker."
   ]
  },
  {
   "cell_type": "code",
   "execution_count": 23,
   "id": "afd68da1-fca1-41fe-9c33-f93a8cb2925e",
   "metadata": {
    "execution": {
     "iopub.execute_input": "2021-04-16T19:35:09.225222Z",
     "iopub.status.busy": "2021-04-16T19:35:09.224726Z",
     "iopub.status.idle": "2021-04-16T19:35:09.228199Z",
     "shell.execute_reply": "2021-04-16T19:35:09.227808Z"
    }
   },
   "outputs": [],
   "source": [
    "conditional(female, given=banker)"
   ]
  },
  {
   "cell_type": "markdown",
   "id": "95edc444-50fe-4ed5-ab4c-e6294428888a",
   "metadata": {},
   "source": [
    "The result shows that the majority of bankers are female.  That is not the same as the probability that a respondent is a banker, given that they are female:"
   ]
  },
  {
   "cell_type": "code",
   "execution_count": 24,
   "id": "d61b6436-c514-4a63-ae0f-6c8c427eca82",
   "metadata": {
    "execution": {
     "iopub.execute_input": "2021-04-16T19:35:09.231432Z",
     "iopub.status.busy": "2021-04-16T19:35:09.230897Z",
     "iopub.status.idle": "2021-04-16T19:35:09.235411Z",
     "shell.execute_reply": "2021-04-16T19:35:09.235854Z"
    }
   },
   "outputs": [],
   "source": [
    "conditional(banker, given=female)"
   ]
  },
  {
   "cell_type": "markdown",
   "id": "5f15d71e-aa56-461e-932d-62f6a5968ab1",
   "metadata": {},
   "source": [
    "Only about 2% of female respondents are bankers.\n",
    "\n",
    "I hope this example makes it clear that conditional probability is not commutative, and maybe it was already clear to you.  Nevertheless, it is a common error to confuse `conditional(A, B)` and `conditional(B, A)`.  We'll see some examples later."
   ]
  },
  {
   "cell_type": "markdown",
   "id": "d36d352e-f3ec-4799-84cd-9ad4be9f12ef",
   "metadata": {},
   "source": [
    "## Condition and Conjunction\n",
    "\n",
    "We can combine conditional probability and conjunction.  For example, here's the probability a respondent is female, given that they are a liberal Democrat."
   ]
  },
  {
   "cell_type": "code",
   "execution_count": 25,
   "id": "99b865d3-4b5a-4d33-9771-7b3234c06c4e",
   "metadata": {
    "execution": {
     "iopub.execute_input": "2021-04-16T19:35:09.239595Z",
     "iopub.status.busy": "2021-04-16T19:35:09.239062Z",
     "iopub.status.idle": "2021-04-16T19:35:09.244206Z",
     "shell.execute_reply": "2021-04-16T19:35:09.244621Z"
    }
   },
   "outputs": [],
   "source": [
    "conditional(female, given=liberal & democrat)"
   ]
  },
  {
   "cell_type": "markdown",
   "id": "e493d550-0106-420f-a1ba-e20357febb69",
   "metadata": {},
   "source": [
    "About 57% of liberal Democrats are female.\n",
    "\n",
    "And here's the probability they are a liberal female, given that they are a banker:"
   ]
  },
  {
   "cell_type": "code",
   "execution_count": 26,
   "id": "35ea4056-4ac4-401e-aa6e-eca97d2996d2",
   "metadata": {
    "execution": {
     "iopub.execute_input": "2021-04-16T19:35:09.247749Z",
     "iopub.status.busy": "2021-04-16T19:35:09.247310Z",
     "iopub.status.idle": "2021-04-16T19:35:09.251132Z",
     "shell.execute_reply": "2021-04-16T19:35:09.250686Z"
    }
   },
   "outputs": [],
   "source": [
    "conditional(liberal & female, given=banker)"
   ]
  },
  {
   "cell_type": "markdown",
   "id": "b2308732-3d17-471f-ad79-232af17edbae",
   "metadata": {},
   "source": [
    "About 17% of bankers are liberal women."
   ]
  },
  {
   "cell_type": "markdown",
   "id": "38461c87-ccc0-4c12-b485-aec7828234ae",
   "metadata": {},
   "source": [
    "## Laws of Probability\n",
    "\n",
    "In the next few sections, we'll derive three relationships between conjunction and conditional probability:\n",
    "\n",
    "* Theorem 1: Using a conjunction to compute a conditional probability.\n",
    "\n",
    "* Theorem 2: Using a conditional probability to compute a conjunction.\n",
    "\n",
    "* Theorem 3: Using `conditional(A, B)` to compute `conditional(B, A)`.\n",
    "\n",
    "Theorem 3 is also known as Bayes's Theorem.\n",
    "\n",
    "I'll write these theorems using mathematical notation for probability:\n",
    "\n",
    "* $P(A)$ is the probability of proposition $A$.\n",
    "\n",
    "* $P(A~\\mathrm{and}~B)$ is the probability of the conjunction of $A$ and $B$, that is, the probability that both are true.\n",
    "\n",
    "* $P(A | B)$ is the conditional probability of $A$ given that $B$ is true.  The vertical line between $A$ and $B$ is pronounced \"given\". \n",
    "\n",
    "With that, we are ready for Theorem 1."
   ]
  },
  {
   "cell_type": "markdown",
   "id": "d99a7d43-8739-4f64-a99a-45afeff809c5",
   "metadata": {},
   "source": [
    "### Theorem 1\n",
    "\n",
    "What fraction of bankers are female?  We have already seen one way to compute the answer:\n",
    "\n",
    "1. Use the bracket operator to select the bankers, then\n",
    "\n",
    "2. Use `mean` to compute the fraction of bankers who are female.\n",
    "\n",
    "We can write these steps like this:"
   ]
  },
  {
   "cell_type": "code",
   "execution_count": 27,
   "id": "0a5c3757-4f15-4fce-8602-784b7660a709",
   "metadata": {
    "execution": {
     "iopub.execute_input": "2021-04-16T19:35:09.254022Z",
     "iopub.status.busy": "2021-04-16T19:35:09.253618Z",
     "iopub.status.idle": "2021-04-16T19:35:09.257836Z",
     "shell.execute_reply": "2021-04-16T19:35:09.258250Z"
    }
   },
   "outputs": [],
   "source": [
    "female[banker].mean()"
   ]
  },
  {
   "cell_type": "markdown",
   "id": "6474fe34-36c9-4b52-9b17-f6bf8ebb01fa",
   "metadata": {},
   "source": [
    "Or we can use the `conditional` function, which does the same thing:"
   ]
  },
  {
   "cell_type": "code",
   "execution_count": 28,
   "id": "05d2511f-84d3-4a4f-9b3b-95346c8c6158",
   "metadata": {
    "execution": {
     "iopub.execute_input": "2021-04-16T19:35:09.261661Z",
     "iopub.status.busy": "2021-04-16T19:35:09.260776Z",
     "iopub.status.idle": "2021-04-16T19:35:09.264587Z",
     "shell.execute_reply": "2021-04-16T19:35:09.264191Z"
    }
   },
   "outputs": [],
   "source": [
    "conditional(female, given=banker)"
   ]
  },
  {
   "cell_type": "markdown",
   "id": "4313b5df-ddaf-41ba-9c02-a2b8940d6218",
   "metadata": {},
   "source": [
    "But there is another way to compute this conditional probability, by computing the ratio of two probabilities:\n",
    "\n",
    "1. The fraction of respondents who are female bankers, and\n",
    "\n",
    "2. The fraction of respondents who are bankers.\n",
    "\n",
    "In other words: of all the bankers, what fraction are female bankers?\n",
    "Here's how we compute this ratio."
   ]
  },
  {
   "cell_type": "code",
   "execution_count": 29,
   "id": "7af81912-f513-4c39-837e-8bc1481386b9",
   "metadata": {
    "execution": {
     "iopub.execute_input": "2021-04-16T19:35:09.268221Z",
     "iopub.status.busy": "2021-04-16T19:35:09.267591Z",
     "iopub.status.idle": "2021-04-16T19:35:09.271822Z",
     "shell.execute_reply": "2021-04-16T19:35:09.271337Z"
    }
   },
   "outputs": [],
   "source": [
    "prob(female & banker) / prob(banker)"
   ]
  },
  {
   "cell_type": "markdown",
   "id": "7d52004e-0c0c-4a6c-a2ee-7bc862543d56",
   "metadata": {},
   "source": [
    "The result is the same.  This example demonstrates a general rule that relates conditional probability and conjunction.  Here's what it looks like in math notation:\n",
    "\n",
    "$$P(A|B) = \\frac{P(A~\\mathrm{and}~B)}{P(B)}$$\n",
    "\n",
    "And that's Theorem 1."
   ]
  },
  {
   "cell_type": "markdown",
   "id": "c690a0b0-5ced-4a02-a547-e70f59f3b6c8",
   "metadata": {},
   "source": [
    "### Theorem 2\n",
    "\n",
    "If we start with Theorem 1 and multiply both sides by $P(B)$, we get Theorem 2.\n",
    "\n",
    "$$P(A~\\mathrm{and}~B) = P(B) ~ P(A|B)$$\n",
    "\n",
    "This formula suggests a second way to compute a conjunction: instead of using the `&` operator, we can compute the product of two probabilities.\n",
    "\n",
    "Let's see if it works for `liberal` and `democrat`.  Here's the result using `&`:"
   ]
  },
  {
   "cell_type": "code",
   "execution_count": 30,
   "id": "82a34e95-bbcd-45ea-8ac0-3ace58c024f6",
   "metadata": {
    "execution": {
     "iopub.execute_input": "2021-04-16T19:35:09.275335Z",
     "iopub.status.busy": "2021-04-16T19:35:09.274699Z",
     "iopub.status.idle": "2021-04-16T19:35:09.278134Z",
     "shell.execute_reply": "2021-04-16T19:35:09.277739Z"
    }
   },
   "outputs": [],
   "source": [
    "prob(liberal & democrat)"
   ]
  },
  {
   "cell_type": "markdown",
   "id": "30c2b2f6-cde3-422b-bb8c-fc424d76ea2a",
   "metadata": {},
   "source": [
    "And here's the result using Theorem 2:"
   ]
  },
  {
   "cell_type": "code",
   "execution_count": 31,
   "id": "d6ff03c7-acb2-4721-bebb-f9df2a18f148",
   "metadata": {
    "execution": {
     "iopub.execute_input": "2021-04-16T19:35:09.282010Z",
     "iopub.status.busy": "2021-04-16T19:35:09.281020Z",
     "iopub.status.idle": "2021-04-16T19:35:09.285790Z",
     "shell.execute_reply": "2021-04-16T19:35:09.286268Z"
    }
   },
   "outputs": [],
   "source": [
    "prob(democrat) * conditional(liberal, democrat)"
   ]
  },
  {
   "cell_type": "markdown",
   "id": "d2dc0361-0950-4623-aced-9fbe072334ce",
   "metadata": {},
   "source": [
    "They are the same."
   ]
  },
  {
   "cell_type": "markdown",
   "id": "a245672b-7731-4030-8d2b-babcd29b9952",
   "metadata": {},
   "source": [
    "### Theorem 3\n",
    "\n",
    "We have established that conjunction is commutative.  In math notation, that means:\n",
    "\n",
    "$$P(A~\\mathrm{and}~B) = P(B~\\mathrm{and}~A)$$\n",
    "\n",
    "If we apply Theorem 2 to both sides, we have\n",
    "\n",
    "$$P(B) P(A|B) = P(A) P(B|A)$$\n",
    "\n",
    "Here's one way to interpret that: if you want to check $A$ and $B$, you can do it in either order:\n",
    "\n",
    "1. You can check $B$ first, then $A$ conditioned on $B$, or\n",
    "\n",
    "2. You can check $A$ first, then $B$ conditioned on $A$.\n",
    "\n",
    "If we divide through by $P(B)$, we get Theorem 3:\n",
    "\n",
    "$$P(A|B) = \\frac{P(A) P(B|A)}{P(B)}$$\n",
    "\n",
    "And that, my friends, is Bayes's Theorem.\n",
    "\n",
    "To see how it works, let's compute the fraction of bankers who are liberal, first using `conditional`:"
   ]
  },
  {
   "cell_type": "code",
   "execution_count": 32,
   "id": "d4a87b98-b53d-4eb8-92ea-784192890a77",
   "metadata": {
    "execution": {
     "iopub.execute_input": "2021-04-16T19:35:09.289892Z",
     "iopub.status.busy": "2021-04-16T19:35:09.289327Z",
     "iopub.status.idle": "2021-04-16T19:35:09.292846Z",
     "shell.execute_reply": "2021-04-16T19:35:09.293307Z"
    }
   },
   "outputs": [],
   "source": [
    "conditional(liberal, given=banker)"
   ]
  },
  {
   "cell_type": "markdown",
   "id": "d95b0048-0441-41aa-861a-78d02e1fc079",
   "metadata": {},
   "source": [
    "Now using Bayes's Theorem:"
   ]
  },
  {
   "cell_type": "code",
   "execution_count": 33,
   "id": "79c3f5ab-0c70-4c00-8299-b2e11e53564c",
   "metadata": {
    "execution": {
     "iopub.execute_input": "2021-04-16T19:35:09.296917Z",
     "iopub.status.busy": "2021-04-16T19:35:09.296411Z",
     "iopub.status.idle": "2021-04-16T19:35:09.302183Z",
     "shell.execute_reply": "2021-04-16T19:35:09.301729Z"
    }
   },
   "outputs": [],
   "source": [
    "prob(liberal) * conditional(banker, liberal) / prob(banker)"
   ]
  },
  {
   "cell_type": "markdown",
   "id": "7ac0ed82-4c5b-4453-9d33-a14df0097728",
   "metadata": {},
   "source": [
    "They are the same."
   ]
  },
  {
   "cell_type": "markdown",
   "id": "36caf465-1169-4545-84b9-f16b06514631",
   "metadata": {},
   "source": [
    "### The Law of Total Probability\n",
    "\n",
    "In addition to these three theorems, there's one more thing we'll need to do Bayesian statistics: the law of total probability.\n",
    "Here's one form of the law, expressed in mathematical notation:\n",
    "\n",
    "$$P(A) = P(B_1 \\mathrm{and} A) + P(B_2 \\mathrm{and} A)$$\n",
    "\n",
    "In words, the total probability of $A$ is the sum of two possibilities: either $B_1$ and $A$ are true or $B_2$ and $A$ are true.\n",
    "But this law applies only if $B_1$ and $B_2$ are:\n",
    "\n",
    "* Mutually exclusive, which means that only one of them can be true, and\n",
    "\n",
    "* Collectively exhaustive, which means that one of them must be true.\n",
    "\n",
    "As an example, let's use this law to compute the probability that a respondent is a banker.\n",
    "We can compute it directly like this:"
   ]
  },
  {
   "cell_type": "code",
   "execution_count": 34,
   "id": "5306bbc9-82f0-40b0-ba43-f1dd05c12ce8",
   "metadata": {
    "execution": {
     "iopub.execute_input": "2021-04-16T19:35:09.306120Z",
     "iopub.status.busy": "2021-04-16T19:35:09.305480Z",
     "iopub.status.idle": "2021-04-16T19:35:09.308555Z",
     "shell.execute_reply": "2021-04-16T19:35:09.309041Z"
    }
   },
   "outputs": [],
   "source": [
    "prob(banker)"
   ]
  },
  {
   "cell_type": "markdown",
   "id": "4c4406dd-0512-4084-860c-cbd2c6df8229",
   "metadata": {},
   "source": [
    "So let's confirm that we get the same thing if we compute male and female bankers separately.\n",
    "\n",
    "In this dataset all respondents are designated male or female.  Recently, the GSS Board of Overseers announced that they will add more inclusive gender questions to the survey (you can read more about this issue, and their decision, at <https://gender.stanford.edu/news-publications/gender-news/more-inclusive-gender-questions-added-general-social-survey>.\n",
    "\n",
    "\n",
    "We already have a Boolean `Series` that is `True` for female respondents.\n",
    "Here's the complementary `Series` for male respondents."
   ]
  },
  {
   "cell_type": "code",
   "execution_count": 35,
   "id": "29fee811-13bf-4708-8160-5164aac6dcef",
   "metadata": {
    "execution": {
     "iopub.execute_input": "2021-04-16T19:35:09.313714Z",
     "iopub.status.busy": "2021-04-16T19:35:09.312851Z",
     "iopub.status.idle": "2021-04-16T19:35:09.315579Z",
     "shell.execute_reply": "2021-04-16T19:35:09.315077Z"
    }
   },
   "outputs": [],
   "source": [
    "male = (gss['sex'] == 1)"
   ]
  },
  {
   "cell_type": "markdown",
   "id": "053ff159-9cf1-4bae-bf32-fbed7407b446",
   "metadata": {},
   "source": [
    "Now we can compute the total probability of `banker` like this. "
   ]
  },
  {
   "cell_type": "code",
   "execution_count": 36,
   "id": "e593ce3e-8476-4248-bd1c-1467bcc0c9a5",
   "metadata": {
    "execution": {
     "iopub.execute_input": "2021-04-16T19:35:09.320293Z",
     "iopub.status.busy": "2021-04-16T19:35:09.319613Z",
     "iopub.status.idle": "2021-04-16T19:35:09.323814Z",
     "shell.execute_reply": "2021-04-16T19:35:09.324375Z"
    }
   },
   "outputs": [],
   "source": [
    "prob(male & banker) + prob(female & banker)"
   ]
  },
  {
   "cell_type": "markdown",
   "id": "98e9ad42-4159-4c4a-8281-66a4a94bb82d",
   "metadata": {},
   "source": [
    "Because `male` and `female` are mutually exclusive and collectively exhaustive (MECE), we get the same result we got by computing the probability of `banker` directly.\n",
    "\n",
    "Applying Theorem 2, we can also write the law of total probability like this:\n",
    "\n",
    "$$P(A) = P(B_1) P(A|B_1) + P(B_2) P(A|B_2)$$\n",
    "\n",
    "And we can test it with the same example:"
   ]
  },
  {
   "cell_type": "code",
   "execution_count": 37,
   "id": "24370d1f-4766-4bdc-b27e-f9bbcdb1dbd1",
   "metadata": {
    "execution": {
     "iopub.execute_input": "2021-04-16T19:35:09.330125Z",
     "iopub.status.busy": "2021-04-16T19:35:09.328968Z",
     "iopub.status.idle": "2021-04-16T19:35:09.336156Z",
     "shell.execute_reply": "2021-04-16T19:35:09.335726Z"
    }
   },
   "outputs": [],
   "source": [
    "(prob(male) * conditional(banker, given=male) +\n",
    "prob(female) * conditional(banker, given=female))"
   ]
  },
  {
   "cell_type": "markdown",
   "id": "6df58c07-4864-45dd-903d-ed92d2161adf",
   "metadata": {},
   "source": [
    "When there are more than two conditions, it is more concise to write the law of total probability as a summation:\n",
    "\n",
    "$$P(A) = \\sum_i P(B_i) P(A|B_i)$$\n",
    "\n",
    "Again, this holds as long as the conditions, $B_i$ are mutually exclusive and collectively exhaustive.\n",
    "As an example, let's consider `polviews`, which has seven different values."
   ]
  },
  {
   "cell_type": "code",
   "execution_count": 38,
   "id": "45d5f1bf-6aae-4191-b630-27efe9a33778",
   "metadata": {
    "execution": {
     "iopub.execute_input": "2021-04-16T19:35:09.340326Z",
     "iopub.status.busy": "2021-04-16T19:35:09.339575Z",
     "iopub.status.idle": "2021-04-16T19:35:09.345569Z",
     "shell.execute_reply": "2021-04-16T19:35:09.345920Z"
    }
   },
   "outputs": [],
   "source": [
    "B = gss['polviews']\n",
    "B.value_counts().sort_index()"
   ]
  },
  {
   "cell_type": "markdown",
   "id": "356ff89b-b76f-4d79-8af8-49e2dcdbddc8",
   "metadata": {},
   "source": [
    "On this scale, `4.0` represents \"Moderate\".\n",
    "So we can compute the probability of a moderate banker like this:"
   ]
  },
  {
   "cell_type": "code",
   "execution_count": 39,
   "id": "3c6b993c-3126-48eb-a749-c739ab73d1ac",
   "metadata": {
    "execution": {
     "iopub.execute_input": "2021-04-16T19:35:09.349523Z",
     "iopub.status.busy": "2021-04-16T19:35:09.348794Z",
     "iopub.status.idle": "2021-04-16T19:35:09.354627Z",
     "shell.execute_reply": "2021-04-16T19:35:09.354093Z"
    }
   },
   "outputs": [],
   "source": [
    "i = 4\n",
    "prob(B==i) * conditional(banker, B==i)"
   ]
  },
  {
   "cell_type": "markdown",
   "id": "ef401c85-9026-46fb-9fe2-88ae02a24d2c",
   "metadata": {},
   "source": [
    "And we can use `sum` and a [generator expression](https://www.johndcook.com/blog/2020/01/15/generator-expression/) to compute the summation."
   ]
  },
  {
   "cell_type": "code",
   "execution_count": 40,
   "id": "73c3e981-f8b7-4da4-8078-d73ceea6b0b9",
   "metadata": {
    "execution": {
     "iopub.execute_input": "2021-04-16T19:35:09.358978Z",
     "iopub.status.busy": "2021-04-16T19:35:09.358491Z",
     "iopub.status.idle": "2021-04-16T19:35:09.371125Z",
     "shell.execute_reply": "2021-04-16T19:35:09.370597Z"
    }
   },
   "outputs": [],
   "source": [
    "sum(prob(B==i) * conditional(banker, B==i)\n",
    "    for i in range(1, 8))"
   ]
  },
  {
   "cell_type": "markdown",
   "id": "8b9a5f24-e8e4-4277-8fc0-ef8374b71e24",
   "metadata": {},
   "source": [
    "The result is the same.\n",
    "\n",
    "In this example, using the law of total probability is a lot more work than computing the probability directly, but it will turn out to be useful, I promise."
   ]
  },
  {
   "cell_type": "markdown",
   "id": "6673286b-883d-4d52-af8c-0c1ceb199c3e",
   "metadata": {},
   "source": [
    "## Summary\n",
    "\n",
    "Here's what we have so far:\n",
    "\n",
    "**Theorem 1** gives us a way to compute a conditional probability using a conjunction:\n",
    "\n",
    "$$P(A|B) = \\frac{P(A~\\mathrm{and}~B)}{P(B)}$$\n",
    "\n",
    "**Theorem 2** gives us a way to compute a conjunction using a conditional probability:\n",
    "\n",
    "$$P(A~\\mathrm{and}~B) = P(B) P(A|B)$$\n",
    "\n",
    "**Theorem 3**, also known as Bayes's Theorem, gives us a way to get from $P(A|B)$ to $P(B|A)$, or the other way around:\n",
    "\n",
    "$$P(A|B) = \\frac{P(A) P(B|A)}{P(B)}$$\n",
    "\n",
    "**The Law of Total Probability** provides a way to compute probabilities by adding up the pieces:\n",
    "\n",
    "$$P(A) = \\sum_i P(B_i) P(A|B_i)$$\n",
    "\n",
    "At this point you might ask, \"So what?\"  If we have all of the data, we can compute any probability we want, any conjunction, or any conditional probability, just by counting.  We don't have to use these formulas.\n",
    "\n",
    "And you are right, *if* we have all of the data.  But often we don't, and in that case, these formulas can be pretty useful -- especially Bayes's Theorem.\n",
    "In the next chapter, we'll see how."
   ]
  },
  {
   "cell_type": "markdown",
   "id": "d6a86235-7017-4a6b-8eb3-bfa8b1be8532",
   "metadata": {},
   "source": [
    "## Exercises"
   ]
  },
  {
   "cell_type": "markdown",
   "id": "99e01375-44d9-452f-a727-8f6dcb38321b",
   "metadata": {},
   "source": [
    "**Exercise:** Let's use the tools in this chapter to solve a variation of the Linda problem.\n",
    "\n",
    "> Linda is 31 years old, single, outspoken, and very bright. She majored in philosophy. As a student, she was deeply concerned with issues of discrimination and social justice, and also participated in anti-nuclear demonstrations.  Which is more probable?\n",
    "> 1. Linda is a banker.\n",
    "> 2. Linda is a banker and considers herself a liberal Democrat.\n",
    "\n",
    "To answer this question, compute \n",
    "\n",
    "* The probability that Linda is a female banker,\n",
    "\n",
    "* The probability that Linda is a liberal female banker, and\n",
    "\n",
    "* The probability that Linda is a liberal female banker and a Democrat."
   ]
  },
  {
   "cell_type": "code",
   "execution_count": 41,
   "id": "31225bbd-f67f-44ca-91b6-61fae17e4968",
   "metadata": {
    "execution": {
     "iopub.execute_input": "2021-04-16T19:35:09.375687Z",
     "iopub.status.busy": "2021-04-16T19:35:09.374854Z",
     "iopub.status.idle": "2021-04-16T19:35:09.379273Z",
     "shell.execute_reply": "2021-04-16T19:35:09.378643Z"
    }
   },
   "outputs": [],
   "source": [
    "# Solution goes here"
   ]
  },
  {
   "cell_type": "code",
   "execution_count": 42,
   "id": "2162728f-e650-4281-96b6-de7195394134",
   "metadata": {
    "execution": {
     "iopub.execute_input": "2021-04-16T19:35:09.383986Z",
     "iopub.status.busy": "2021-04-16T19:35:09.383142Z",
     "iopub.status.idle": "2021-04-16T19:35:09.386942Z",
     "shell.execute_reply": "2021-04-16T19:35:09.387425Z"
    }
   },
   "outputs": [],
   "source": [
    "# Solution goes here"
   ]
  },
  {
   "cell_type": "code",
   "execution_count": 43,
   "id": "2362642e-3609-418c-b3c2-91360e064191",
   "metadata": {
    "execution": {
     "iopub.execute_input": "2021-04-16T19:35:09.391539Z",
     "iopub.status.busy": "2021-04-16T19:35:09.390944Z",
     "iopub.status.idle": "2021-04-16T19:35:09.395260Z",
     "shell.execute_reply": "2021-04-16T19:35:09.395740Z"
    }
   },
   "outputs": [],
   "source": [
    "# Solution goes here"
   ]
  },
  {
   "cell_type": "markdown",
   "id": "97436a89-7e8c-4c6c-8446-3caccc9532c4",
   "metadata": {},
   "source": [
    "**Exercise:** Use `conditional` to compute the following probabilities:\n",
    "\n",
    "* What is the probability that a respondent is liberal, given that they are a Democrat?\n",
    "\n",
    "* What is the probability that a respondent is a Democrat, given that they are liberal?\n",
    "\n",
    "Think carefully about the order of the arguments you pass to `conditional`."
   ]
  },
  {
   "cell_type": "code",
   "execution_count": 44,
   "id": "6023bbec-0a93-4bac-a9d0-3becd75624da",
   "metadata": {
    "execution": {
     "iopub.execute_input": "2021-04-16T19:35:09.399461Z",
     "iopub.status.busy": "2021-04-16T19:35:09.398872Z",
     "iopub.status.idle": "2021-04-16T19:35:09.403442Z",
     "shell.execute_reply": "2021-04-16T19:35:09.403943Z"
    }
   },
   "outputs": [],
   "source": [
    "# Solution goes here"
   ]
  },
  {
   "cell_type": "code",
   "execution_count": 45,
   "id": "a67f2974-53c7-490c-a90e-0e115c6807b1",
   "metadata": {
    "execution": {
     "iopub.execute_input": "2021-04-16T19:35:09.407668Z",
     "iopub.status.busy": "2021-04-16T19:35:09.407123Z",
     "iopub.status.idle": "2021-04-16T19:35:09.411160Z",
     "shell.execute_reply": "2021-04-16T19:35:09.411604Z"
    }
   },
   "outputs": [],
   "source": [
    "# Solution goes here"
   ]
  },
  {
   "cell_type": "markdown",
   "id": "58482190-e266-4ef5-af33-34969786d1ad",
   "metadata": {},
   "source": [
    "**Exercise:** There's a [famous quote](https://quoteinvestigator.com/2014/02/24/heart-head/) about young people, old people, liberals, and conservatives that goes something like:\n",
    "\n",
    "> If you are not a liberal at 25, you have no heart. If you are not a conservative at 35, you have no brain.\n",
    "\n",
    "Whether you agree with this proposition or not, it suggests some probabilities we can compute as an exercise.\n",
    "Rather than use the specific ages 25 and 35, let's define `young` and `old` as under 30 or over 65:"
   ]
  },
  {
   "cell_type": "code",
   "execution_count": 46,
   "id": "68996187-bff3-4f59-8d0b-485e4e4248a7",
   "metadata": {
    "execution": {
     "iopub.execute_input": "2021-04-16T19:35:09.415701Z",
     "iopub.status.busy": "2021-04-16T19:35:09.415139Z",
     "iopub.status.idle": "2021-04-16T19:35:09.418451Z",
     "shell.execute_reply": "2021-04-16T19:35:09.418810Z"
    }
   },
   "outputs": [],
   "source": [
    "young = (gss['age'] < 30)\n",
    "prob(young)"
   ]
  },
  {
   "cell_type": "code",
   "execution_count": 47,
   "id": "38c21546-6d17-443c-91eb-6e47f48bf9b6",
   "metadata": {
    "execution": {
     "iopub.execute_input": "2021-04-16T19:35:09.423028Z",
     "iopub.status.busy": "2021-04-16T19:35:09.422417Z",
     "iopub.status.idle": "2021-04-16T19:35:09.425586Z",
     "shell.execute_reply": "2021-04-16T19:35:09.425960Z"
    }
   },
   "outputs": [],
   "source": [
    "old = (gss['age'] >= 65)\n",
    "prob(old)"
   ]
  },
  {
   "cell_type": "markdown",
   "id": "cb419084-dbc5-4374-9b6c-48b142044401",
   "metadata": {},
   "source": [
    "For these thresholds, I chose round numbers near the 20th and 80th percentiles.  Depending on your age, you may or may not agree with these definitions of \"young\" and \"old\".\n",
    "\n",
    "I'll define `conservative` as someone whose political views are \"Conservative\", \"Slightly Conservative\", or \"Extremely Conservative\"."
   ]
  },
  {
   "cell_type": "code",
   "execution_count": 48,
   "id": "702d6288-6b1e-426e-bde8-9ba88961dcca",
   "metadata": {
    "execution": {
     "iopub.execute_input": "2021-04-16T19:35:09.429448Z",
     "iopub.status.busy": "2021-04-16T19:35:09.428975Z",
     "iopub.status.idle": "2021-04-16T19:35:09.432387Z",
     "shell.execute_reply": "2021-04-16T19:35:09.432875Z"
    }
   },
   "outputs": [],
   "source": [
    "conservative = (gss['polviews'] >= 5)\n",
    "prob(conservative)"
   ]
  },
  {
   "cell_type": "markdown",
   "id": "b9163c4a-b250-47a2-b989-f7165eb7baed",
   "metadata": {},
   "source": [
    "Use `prob` and `conditional` to compute the following probabilities.\n",
    "\n",
    "* What is the probability that a randomly chosen respondent is a young liberal?\n",
    "\n",
    "* What is the probability that a young person is liberal?\n",
    "\n",
    "* What fraction of respondents are old conservatives?\n",
    "\n",
    "* What fraction of conservatives are old?\n",
    "\n",
    "For each statement, think about whether it is expressing a conjunction, a conditional probability, or both.\n",
    "\n",
    "For the conditional probabilities, be careful about the order of the arguments.\n",
    "If your answer to the last question is greater than 30%, you have it backwards!"
   ]
  },
  {
   "cell_type": "code",
   "execution_count": 49,
   "id": "b7ee1361-5c42-428a-90b0-3fea15ef3960",
   "metadata": {
    "execution": {
     "iopub.execute_input": "2021-04-16T19:35:09.436838Z",
     "iopub.status.busy": "2021-04-16T19:35:09.436245Z",
     "iopub.status.idle": "2021-04-16T19:35:09.439984Z",
     "shell.execute_reply": "2021-04-16T19:35:09.440468Z"
    }
   },
   "outputs": [],
   "source": [
    "# Solution goes here"
   ]
  },
  {
   "cell_type": "code",
   "execution_count": 50,
   "id": "405590f5-e536-4acd-b325-a46a0c536c91",
   "metadata": {
    "execution": {
     "iopub.execute_input": "2021-04-16T19:35:09.443827Z",
     "iopub.status.busy": "2021-04-16T19:35:09.443300Z",
     "iopub.status.idle": "2021-04-16T19:35:09.447774Z",
     "shell.execute_reply": "2021-04-16T19:35:09.447317Z"
    }
   },
   "outputs": [],
   "source": [
    "# Solution goes here"
   ]
  },
  {
   "cell_type": "code",
   "execution_count": 51,
   "id": "021a61e8-5970-4187-891d-03b2062b4f8d",
   "metadata": {
    "execution": {
     "iopub.execute_input": "2021-04-16T19:35:09.451326Z",
     "iopub.status.busy": "2021-04-16T19:35:09.450505Z",
     "iopub.status.idle": "2021-04-16T19:35:09.455557Z",
     "shell.execute_reply": "2021-04-16T19:35:09.455085Z"
    }
   },
   "outputs": [],
   "source": [
    "# Solution goes here"
   ]
  },
  {
   "cell_type": "code",
   "execution_count": 52,
   "id": "e6b47b6c-8303-4b3d-b42f-e5872711f2db",
   "metadata": {
    "execution": {
     "iopub.execute_input": "2021-04-16T19:35:09.458973Z",
     "iopub.status.busy": "2021-04-16T19:35:09.458445Z",
     "iopub.status.idle": "2021-04-16T19:35:09.462616Z",
     "shell.execute_reply": "2021-04-16T19:35:09.463061Z"
    }
   },
   "outputs": [],
   "source": [
    "# Solution goes here"
   ]
  },
  {
   "cell_type": "markdown",
   "id": "65bfbb7c-2058-4144-bc94-0855f901d5ba",
   "metadata": {},
   "source": []
  }
 ],
 "metadata": {
  "kernelspec": {
   "display_name": "Python 3 (ipykernel)",
   "language": "python",
   "name": "python3"
  },
  "language_info": {
   "codemirror_mode": {
    "name": "ipython",
    "version": 3
   },
   "file_extension": ".py",
   "mimetype": "text/x-python",
   "name": "python",
   "nbconvert_exporter": "python",
   "pygments_lexer": "ipython3",
   "version": "3.10.8"
  }
 },
 "nbformat": 4,
 "nbformat_minor": 5
}
